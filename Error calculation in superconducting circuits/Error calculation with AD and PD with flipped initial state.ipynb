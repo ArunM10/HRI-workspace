{
 "cells": [
  {
   "cell_type": "code",
   "execution_count": 1,
   "metadata": {},
   "outputs": [],
   "source": [
    "from pennylane import numpy as np\n",
    "import pennylane as qml\n",
    "from matplotlib import pyplot as plt"
   ]
  },
  {
   "cell_type": "code",
   "execution_count": 2,
   "metadata": {},
   "outputs": [
    {
     "data": {
      "text/plain": [
       "'\\nHere we are gonna use Amplitude damping and Phase damping noise\\n'"
      ]
     },
     "execution_count": 2,
     "metadata": {},
     "output_type": "execute_result"
    }
   ],
   "source": [
    "'''\n",
    "Here we are gonna use Amplitude damping and Phase damping noise\n",
    "'''"
   ]
  },
  {
   "cell_type": "code",
   "execution_count": 3,
   "metadata": {},
   "outputs": [],
   "source": [
    "I = np.eye(2)\n",
    "X = np.array([[0, 1], [1, 0]])\n",
    "Z = np.array([[1, 0], [0, -1]])\n",
    "Y = np.array([[0,-1j],[1j, 0]])"
   ]
  },
  {
   "cell_type": "code",
   "execution_count": 4,
   "metadata": {},
   "outputs": [
    {
     "data": {
      "text/plain": [
       "'\\nT1 = single-qubit (energy) relaxation time and \\nT2 = dephasing time\\n'"
      ]
     },
     "execution_count": 4,
     "metadata": {},
     "output_type": "execute_result"
    }
   ],
   "source": [
    "'''\n",
    "T1 = single-qubit (energy) relaxation time and \n",
    "T2 = dephasing time\n",
    "'''"
   ]
  },
  {
   "cell_type": "code",
   "execution_count": 5,
   "metadata": {},
   "outputs": [],
   "source": [
    "t=np.linspace(1,200,200)*10**(-9)#60*10**(-9)\n",
    "T1=400*10**(-9)\n",
    "T2=200*10**(-9)\n",
    "steps=4"
   ]
  },
  {
   "cell_type": "code",
   "execution_count": 6,
   "metadata": {},
   "outputs": [],
   "source": [
    "#P_AD=0\n",
    "#P_PD=0\n",
    "def P(t,T1,T2):\n",
    "    \n",
    "    P_AD=1-np.exp(-t/T1)\n",
    "    P_PD=1-np.exp(-t*2/T2)*np.exp(t/T1)\n",
    "    \n",
    "    return P_AD,P_PD"
   ]
  },
  {
   "cell_type": "code",
   "execution_count": 7,
   "metadata": {},
   "outputs": [],
   "source": [
    "def ED(t,T1,T2):\n",
    "    P_AD,P_PD=P(t,T1,T2)\n",
    "    gamma=P_AD\n",
    "    Lambda=(1-P_AD)*P_PD\n",
    "    \n",
    "    ED1=((1+np.sqrt(1-gamma-Lambda))/2)*I+((1-np.sqrt(1-gamma-Lambda))/2)*Z\n",
    "    ED2=np.sqrt(gamma)/2*X+1j*np.sqrt(gamma)/2*Y\n",
    "    ED3=np.sqrt(Lambda)/2*I-np.sqrt(Lambda)/2*Z\n",
    "    \n",
    "    return ED1,ED2,ED3"
   ]
  },
  {
   "cell_type": "code",
   "execution_count": 8,
   "metadata": {},
   "outputs": [
    {
     "data": {
      "text/plain": [
       "tensor([[0.        , 0.        ],\n",
       "        [0.        , 0.00193045]], requires_grad=True)"
      ]
     },
     "execution_count": 8,
     "metadata": {},
     "output_type": "execute_result"
    }
   ],
   "source": [
    "a,b,c=ED(0.1,0.008,0.005)\n",
    "c"
   ]
  },
  {
   "cell_type": "code",
   "execution_count": 9,
   "metadata": {},
   "outputs": [],
   "source": [
    "dev=qml.device(\"default.mixed\",wires=3)"
   ]
  },
  {
   "cell_type": "code",
   "execution_count": 10,
   "metadata": {},
   "outputs": [],
   "source": [
    "@qml.qnode(dev)\n",
    "def density_matrix(step):\n",
    "   \n",
    "    if step==0:\n",
    "        qml.BasisState([1,1,1], wires=[0,1,2])\n",
    "        return qml.state()\n",
    "    if step==1:\n",
    "        qml.BasisState([1,1,1], wires=[0,1,2])\n",
    "        qml.Hadamard(wires=0)\n",
    "        return qml.state()\n",
    "    \n",
    "    if step==2:\n",
    "        qml.BasisState([1,1,1], wires=[0,1,2])\n",
    "        qml.Hadamard(wires=0)\n",
    "        qml.CNOT(wires=[0,1])\n",
    "        return qml.state()\n",
    "    \n",
    "    if step==3:\n",
    "        qml.BasisState([1,1,1], wires=[0,1,2])\n",
    "        qml.Hadamard(wires=0)\n",
    "        qml.CNOT(wires=[0,1])\n",
    "        qml.CNOT(wires=[0,2])\n",
    "        return qml.state()\n",
    "    \n",
    "    \n",
    "    if step==4:\n",
    "        qml.BasisState([1,1,1], wires=[0,1,2])\n",
    "        qml.Hadamard(wires=0)\n",
    "        qml.CNOT(wires=[0,1])\n",
    "        qml.CNOT(wires=[0,2])\n",
    "        qml.Hadamard(wires=0)\n",
    "        return qml.state()"
   ]
  },
  {
   "cell_type": "code",
   "execution_count": 11,
   "metadata": {
    "scrolled": false
   },
   "outputs": [
    {
     "data": {
      "text/plain": [
       "tensor([[0.+0.j, 0.+0.j, 0.+0.j, 0.+0.j, 0.+0.j, 0.+0.j, 0.+0.j, 0.+0.j],\n",
       "        [0.+0.j, 0.+0.j, 0.+0.j, 0.+0.j, 0.+0.j, 0.+0.j, 0.+0.j, 0.+0.j],\n",
       "        [0.+0.j, 0.+0.j, 0.+0.j, 0.+0.j, 0.+0.j, 0.+0.j, 0.+0.j, 0.+0.j],\n",
       "        [0.+0.j, 0.+0.j, 0.+0.j, 0.+0.j, 0.+0.j, 0.+0.j, 0.+0.j, 0.+0.j],\n",
       "        [0.+0.j, 0.+0.j, 0.+0.j, 0.+0.j, 0.+0.j, 0.+0.j, 0.+0.j, 0.+0.j],\n",
       "        [0.+0.j, 0.+0.j, 0.+0.j, 0.+0.j, 0.+0.j, 0.+0.j, 0.+0.j, 0.+0.j],\n",
       "        [0.+0.j, 0.+0.j, 0.+0.j, 0.+0.j, 0.+0.j, 0.+0.j, 0.+0.j, 0.+0.j],\n",
       "        [0.+0.j, 0.+0.j, 0.+0.j, 0.+0.j, 0.+0.j, 0.+0.j, 0.+0.j, 1.+0.j]], requires_grad=False)"
      ]
     },
     "execution_count": 11,
     "metadata": {},
     "output_type": "execute_result"
    }
   ],
   "source": [
    "density_matrix(0)"
   ]
  },
  {
   "cell_type": "code",
   "execution_count": 12,
   "metadata": {},
   "outputs": [],
   "source": [
    "# Function to find the fidelity between two density matrix\n",
    "def Fidelity(rho1,rho2):\n",
    "    if rho1.shape!=rho2.shape:\n",
    "        raise ValueError(\"Dimension of both matrices must be same\")\n",
    "    return ((np.trace(np.dot(np.transpose(np.conj(rho1)),rho2))))  # as one of them is pure (entangled) state"
   ]
  },
  {
   "cell_type": "code",
   "execution_count": 13,
   "metadata": {},
   "outputs": [],
   "source": [
    "def Decoherent_state_0( t,  T1,  T2,  steps):\n",
    "    \n",
    "    #rho=ρ_noise\n",
    "    rho=density_matrix(steps)\n",
    "    \n",
    "    ED1,ED2,ED3=ED(t,T1,T2)\n",
    "    \n",
    "    Kraus_on_1_ED1=np.kron(np.kron(ED1,I),I)\n",
    "    Kraus_on_1_ED2=np.kron(np.kron(ED2,I),I)\n",
    "    Kraus_on_1_ED3=np.kron(np.kron(ED3,I),I)\n",
    "    \n",
    "    epsilon_D_rho_1=np.dot(np.dot(Kraus_on_1_ED1,rho),np.transpose(np.conj(Kraus_on_1_ED1)))+\\\n",
    "                    np.dot(np.dot(Kraus_on_1_ED2,rho),np.transpose(np.conj(Kraus_on_1_ED2)))+\\\n",
    "                    np.dot(np.dot(Kraus_on_1_ED3,rho),np.transpose(np.conj(Kraus_on_1_ED3)))\n",
    "    \n",
    "    # for rho1 only hadamard is applied to 1st qubit thus noise should also be applied to 1st but can be applied to qubits\n",
    "    # in both the cases the result will be the same\n",
    "    \n",
    "    Kraus_on_2_ED1=np.kron(np.kron(I,ED1),I)\n",
    "    Kraus_on_2_ED2=np.kron(np.kron(I,ED2),I)\n",
    "    Kraus_on_2_ED3=np.kron(np.kron(I,ED3),I)\n",
    "    \n",
    "    epsilon_D_rho_2=np.dot(np.dot(Kraus_on_2_ED1,epsilon_D_rho_1),np.transpose(np.conj(Kraus_on_2_ED1)))+\\\n",
    "                    np.dot(np.dot(Kraus_on_2_ED2,epsilon_D_rho_1),np.transpose(np.conj(Kraus_on_2_ED2)))+\\\n",
    "                    np.dot(np.dot(Kraus_on_2_ED3,epsilon_D_rho_1),np.transpose(np.conj(Kraus_on_2_ED3)))\n",
    "    \n",
    "    Kraus_on_3_ED1=np.kron(np.kron(I,I),ED1)\n",
    "    Kraus_on_3_ED2=np.kron(np.kron(I,I),ED2)\n",
    "    Kraus_on_3_ED3=np.kron(np.kron(I,I),ED3)\n",
    "    \n",
    "    epsilon_D_rho_3=np.dot(np.dot(Kraus_on_3_ED1,epsilon_D_rho_2),np.transpose(np.conj(Kraus_on_3_ED1)))+\\\n",
    "                    np.dot(np.dot(Kraus_on_3_ED2,epsilon_D_rho_2),np.transpose(np.conj(Kraus_on_3_ED2)))+\\\n",
    "                    np.dot(np.dot(Kraus_on_3_ED3,epsilon_D_rho_2),np.transpose(np.conj(Kraus_on_3_ED3)))\n",
    "    '''\n",
    "    return epsilon_D_rho_3\n",
    "    '''\n",
    "    return epsilon_D_rho_3\n",
    "    "
   ]
  },
  {
   "cell_type": "code",
   "execution_count": 14,
   "metadata": {},
   "outputs": [
    {
     "data": {
      "text/plain": [
       "200"
      ]
     },
     "execution_count": 14,
     "metadata": {},
     "output_type": "execute_result"
    }
   ],
   "source": [
    "ρ_noise_0=[]\n",
    "ρ_noise_0=[Decoherent_state_0(time,T1,T2,0) for time in t] \n",
    "len(ρ_noise_0)"
   ]
  },
  {
   "cell_type": "code",
   "execution_count": 15,
   "metadata": {},
   "outputs": [
    {
     "data": {
      "text/plain": [
       "200"
      ]
     },
     "execution_count": 15,
     "metadata": {},
     "output_type": "execute_result"
    }
   ],
   "source": [
    "rho2=density_matrix(0)  # this is the pure density matrix \n",
    "F_0=[]\n",
    "for rho1 in ρ_noise_0:\n",
    "    F_0.append(Fidelity(rho1,rho2))\n",
    "    \n",
    "len(F_0)"
   ]
  },
  {
   "cell_type": "code",
   "execution_count": 22,
   "metadata": {},
   "outputs": [
    {
     "name": "stderr",
     "output_type": "stream",
     "text": [
      "C:\\Users\\Arunava\\anaconda3\\lib\\site-packages\\matplotlib\\cbook\\__init__.py:1289: ComplexWarning: Casting complex values to real discards the imaginary part\n",
      "  return np.asarray(x, float)\n"
     ]
    },
    {
     "data": {
      "image/png": "[encoded data removed]",
      "text/plain": [
       "<Figure size 576x396 with 1 Axes>"
      ]
     },
     "metadata": {},
     "output_type": "display_data"
    }
   ],
   "source": [
    "plt.style.use(\"seaborn\")\n",
    "plt.plot(t,F_0,\"black\",label=\"Fidelity\")\n",
    "plt.ylabel(\"Fidelity\", fontsize=18)\n",
    "plt.xlabel(\"Time steps\", fontsize=18)\n",
    "plt.tick_params(axis=\"both\", which=\"major\", labelsize=16)   # helps to increase the size of the values in X and Y axis\n",
    "plt.tick_params(axis=\"both\", which=\"minor\", labelsize=16)\n",
    "plt.title(\"Fidelity before 1st Hadamard gate in presence of noise if initial state->|000>\", fontsize=18)\n",
    "plt.legend()\n",
    "plt.show()"
   ]
  },
  {
   "cell_type": "code",
   "execution_count": 16,
   "metadata": {},
   "outputs": [
    {
     "name": "stderr",
     "output_type": "stream",
     "text": [
      "C:\\Users\\Arunava\\anaconda3\\lib\\site-packages\\matplotlib\\cbook\\__init__.py:1289: ComplexWarning: Casting complex values to real discards the imaginary part\n",
      "  return np.asarray(x, float)\n"
     ]
    },
    {
     "data": {
      "image/png": "[encoded data removed]",
      "text/plain": [
       "<Figure size 576x396 with 1 Axes>"
      ]
     },
     "metadata": {},
     "output_type": "display_data"
    }
   ],
   "source": [
    "plt.style.use(\"seaborn\")\n",
    "plt.plot(t,F_0,\"black\",label=\"Fidelity\")\n",
    "plt.ylabel(\"Fidelity\", fontsize=18)\n",
    "plt.xlabel(\"Time steps\", fontsize=18)\n",
    "plt.tick_params(axis=\"both\", which=\"major\", labelsize=16)   # helps to increase the size of the values in X and Y axis\n",
    "plt.tick_params(axis=\"both\", which=\"minor\", labelsize=16)\n",
    "plt.title(\"Fidelity before 1st Hadamard gate in presence of noise if initial state->|111>\", fontsize=18)\n",
    "plt.legend()\n",
    "plt.show()"
   ]
  },
  {
   "cell_type": "code",
   "execution_count": 17,
   "metadata": {},
   "outputs": [],
   "source": [
    "from qiskit import QuantumCircuit\n",
    "import qiskit.quantum_info as qi"
   ]
  },
  {
   "cell_type": "markdown",
   "metadata": {},
   "source": [
    "In the below six cells we are calculating the reduced density matrices: 1st 3-> all possible 1 qubit states and last 3-> all possible 2 qubit states"
   ]
  },
  {
   "cell_type": "code",
   "execution_count": 18,
   "metadata": {},
   "outputs": [
    {
     "name": "stdout",
     "output_type": "stream",
     "text": [
      "200\n",
      "DensityMatrix([[0.00249688+0.j, 0.        +0.j],\n",
      "               [0.        +0.j, 0.99750312+0.j]],\n",
      "              dims=(2,))\n"
     ]
    }
   ],
   "source": [
    "rho_A1 = []\n",
    "for r in ρ_noise_0:\n",
    "    rho_A1.append(qi.partial_trace(r,[1,2]))\n",
    "    \n",
    "print(len(rho_A1))\n",
    "rho_A1[0]"
   ]
  },
  {
   "cell_type": "code",
   "execution_count": 19,
   "metadata": {},
   "outputs": [
    {
     "name": "stdout",
     "output_type": "stream",
     "text": [
      "200\n",
      "DensityMatrix([[0.00249688+0.j, 0.        +0.j],\n",
      "               [0.        +0.j, 0.99750312+0.j]],\n",
      "              dims=(2,))\n"
     ]
    }
   ],
   "source": [
    "rho_B1 = []\n",
    "for r in ρ_noise_0:\n",
    "    rho_B1.append(qi.partial_trace(r,[0,2]))\n",
    "    \n",
    "print(len(rho_B1))\n",
    "rho_B1[0]"
   ]
  },
  {
   "cell_type": "code",
   "execution_count": 20,
   "metadata": {},
   "outputs": [
    {
     "name": "stdout",
     "output_type": "stream",
     "text": [
      "200\n",
      "DensityMatrix([[0.00249688+0.j, 0.        +0.j],\n",
      "               [0.        +0.j, 0.99750312+0.j]],\n",
      "              dims=(2,))\n"
     ]
    }
   ],
   "source": [
    "rho_C1 = []\n",
    "for r in ρ_noise_0:\n",
    "    rho_C1.append(qi.partial_trace(r,[0,1]))\n",
    "    \n",
    "print(len(rho_C1))\n",
    "rho_C1[0]"
   ]
  },
  {
   "cell_type": "code",
   "execution_count": 24,
   "metadata": {},
   "outputs": [],
   "source": [
    "# Two qubit reduced dencity matrix"
   ]
  },
  {
   "cell_type": "code",
   "execution_count": 21,
   "metadata": {},
   "outputs": [
    {
     "name": "stdout",
     "output_type": "stream",
     "text": [
      "200\n",
      "DensityMatrix([[6.23439776e-06+0.j, 0.00000000e+00+0.j,\n",
      "                0.00000000e+00+0.j, 0.00000000e+00+0.j],\n",
      "               [0.00000000e+00+0.j, 2.49064320e-03+0.j,\n",
      "                0.00000000e+00+0.j, 0.00000000e+00+0.j],\n",
      "               [0.00000000e+00+0.j, 0.00000000e+00+0.j,\n",
      "                2.49064320e-03+0.j, 0.00000000e+00+0.j],\n",
      "               [0.00000000e+00+0.j, 0.00000000e+00+0.j,\n",
      "                0.00000000e+00+0.j, 9.95012479e-01+0.j]],\n",
      "              dims=(2, 2))\n"
     ]
    }
   ],
   "source": [
    "rho_D12 = []\n",
    "for r in ρ_noise_0:\n",
    "    rho_D12.append(qi.partial_trace(r,[2]))\n",
    "    \n",
    "print(len(rho_D12))\n",
    "rho_D12[0]"
   ]
  },
  {
   "cell_type": "code",
   "execution_count": 22,
   "metadata": {},
   "outputs": [
    {
     "name": "stdout",
     "output_type": "stream",
     "text": [
      "200\n",
      "DensityMatrix([[6.23439776e-06+0.j, 0.00000000e+00+0.j,\n",
      "                0.00000000e+00+0.j, 0.00000000e+00+0.j],\n",
      "               [0.00000000e+00+0.j, 2.49064320e-03+0.j,\n",
      "                0.00000000e+00+0.j, 0.00000000e+00+0.j],\n",
      "               [0.00000000e+00+0.j, 0.00000000e+00+0.j,\n",
      "                2.49064320e-03+0.j, 0.00000000e+00+0.j],\n",
      "               [0.00000000e+00+0.j, 0.00000000e+00+0.j,\n",
      "                0.00000000e+00+0.j, 9.95012479e-01+0.j]],\n",
      "              dims=(2, 2))\n"
     ]
    }
   ],
   "source": [
    "rho_D23 = []\n",
    "for r in ρ_noise_0:\n",
    "    rho_D23.append(qi.partial_trace(r,[0]))\n",
    "    \n",
    "print(len(rho_D23))\n",
    "rho_D23[0]"
   ]
  },
  {
   "cell_type": "code",
   "execution_count": 25,
   "metadata": {},
   "outputs": [
    {
     "name": "stdout",
     "output_type": "stream",
     "text": [
      "200\n",
      "DensityMatrix([[6.23439776e-06+0.j, 0.00000000e+00+0.j,\n",
      "                0.00000000e+00+0.j, 0.00000000e+00+0.j],\n",
      "               [0.00000000e+00+0.j, 2.49064320e-03+0.j,\n",
      "                0.00000000e+00+0.j, 0.00000000e+00+0.j],\n",
      "               [0.00000000e+00+0.j, 0.00000000e+00+0.j,\n",
      "                2.49064320e-03+0.j, 0.00000000e+00+0.j],\n",
      "               [0.00000000e+00+0.j, 0.00000000e+00+0.j,\n",
      "                0.00000000e+00+0.j, 9.95012479e-01+0.j]],\n",
      "              dims=(2, 2))\n"
     ]
    }
   ],
   "source": [
    "rho_D13 = []\n",
    "for r in ρ_noise_0:\n",
    "    rho_D13.append(qi.partial_trace(r,[1]))\n",
    "    \n",
    "print(len(rho_D13))\n",
    "rho_D13[0]"
   ]
  },
  {
   "cell_type": "code",
   "execution_count": null,
   "metadata": {},
   "outputs": [],
   "source": []
  },
  {
   "cell_type": "code",
   "execution_count": 26,
   "metadata": {},
   "outputs": [],
   "source": [
    "H=1/np.sqrt(2)*np.array([[1,1],[1,-1]])"
   ]
  },
  {
   "cell_type": "code",
   "execution_count": 27,
   "metadata": {},
   "outputs": [],
   "source": [
    "def Decoherent_state_1( t,  T1,  T2, density_matrix):\n",
    "    \n",
    "    #rho=ρ_noise\n",
    "    rho=density_matrix\n",
    "    \n",
    "    rho=np.dot(np.dot(np.kron(np.kron(H,I),I),rho),np.transpose(np.conj(np.kron(np.kron(H,I),I))))\n",
    "    \n",
    "    ED1,ED2,ED3=ED(t,T1,T2)\n",
    "    \n",
    "    Kraus_on_1_ED1=np.kron(np.kron(ED1,I),I)\n",
    "    Kraus_on_1_ED2=np.kron(np.kron(ED2,I),I)\n",
    "    Kraus_on_1_ED3=np.kron(np.kron(ED3,I),I)\n",
    "    \n",
    "    epsilon_D_rho_1=np.dot(np.dot(Kraus_on_1_ED1,rho),np.transpose(np.conj(Kraus_on_1_ED1)))+\\\n",
    "                    np.dot(np.dot(Kraus_on_1_ED2,rho),np.transpose(np.conj(Kraus_on_1_ED2)))+\\\n",
    "                    np.dot(np.dot(Kraus_on_1_ED3,rho),np.transpose(np.conj(Kraus_on_1_ED3)))\n",
    "    \n",
    "    # for rho1 only hadamard is applied to 1st qubit thus noise should also be applied to 1st but can be applied to qubits\n",
    "    # in both the cases the result will be the same\n",
    "    \n",
    "    Kraus_on_2_ED1=np.kron(np.kron(I,ED1),I)\n",
    "    Kraus_on_2_ED2=np.kron(np.kron(I,ED2),I)\n",
    "    Kraus_on_2_ED3=np.kron(np.kron(I,ED3),I)\n",
    "    \n",
    "    epsilon_D_rho_2=np.dot(np.dot(Kraus_on_2_ED1,epsilon_D_rho_1),np.transpose(np.conj(Kraus_on_2_ED1)))+\\\n",
    "                    np.dot(np.dot(Kraus_on_2_ED2,epsilon_D_rho_1),np.transpose(np.conj(Kraus_on_2_ED2)))+\\\n",
    "                    np.dot(np.dot(Kraus_on_2_ED3,epsilon_D_rho_1),np.transpose(np.conj(Kraus_on_2_ED3)))\n",
    "    \n",
    "    Kraus_on_3_ED1=np.kron(np.kron(I,I),ED1)\n",
    "    Kraus_on_3_ED2=np.kron(np.kron(I,I),ED2)\n",
    "    Kraus_on_3_ED3=np.kron(np.kron(I,I),ED3)\n",
    "    \n",
    "    epsilon_D_rho_3=np.dot(np.dot(Kraus_on_3_ED1,epsilon_D_rho_2),np.transpose(np.conj(Kraus_on_3_ED1)))+\\\n",
    "                    np.dot(np.dot(Kraus_on_3_ED2,epsilon_D_rho_2),np.transpose(np.conj(Kraus_on_3_ED2)))+\\\n",
    "                    np.dot(np.dot(Kraus_on_3_ED3,epsilon_D_rho_2),np.transpose(np.conj(Kraus_on_3_ED3)))\n",
    "    \n",
    "    return epsilon_D_rho_3"
   ]
  },
  {
   "cell_type": "code",
   "execution_count": 28,
   "metadata": {},
   "outputs": [
    {
     "data": {
      "text/plain": [
       "200"
      ]
     },
     "execution_count": 28,
     "metadata": {},
     "output_type": "execute_result"
    }
   ],
   "source": [
    "ρ_noise=[]\n",
    "ρ_noise=[Decoherent_state_1(time,T1,T2,density_matrix) for time,density_matrix in zip(t,ρ_noise_0)] \n",
    "len(ρ_noise)"
   ]
  },
  {
   "cell_type": "code",
   "execution_count": 29,
   "metadata": {},
   "outputs": [
    {
     "data": {
      "text/plain": [
       "200"
      ]
     },
     "execution_count": 29,
     "metadata": {},
     "output_type": "execute_result"
    }
   ],
   "source": [
    "rho2=density_matrix(1)  # this is the pure density matrix \n",
    "F=[]\n",
    "for rho1 in ρ_noise:\n",
    "    F.append(Fidelity(rho1,rho2))\n",
    "    \n",
    "len(F)"
   ]
  },
  {
   "cell_type": "code",
   "execution_count": 30,
   "metadata": {},
   "outputs": [
    {
     "name": "stderr",
     "output_type": "stream",
     "text": [
      "C:\\Users\\Arunava\\anaconda3\\lib\\site-packages\\matplotlib\\cbook\\__init__.py:1289: ComplexWarning: Casting complex values to real discards the imaginary part\n",
      "  return np.asarray(x, float)\n"
     ]
    },
    {
     "data": {
      "image/png": "[encoded data removed]",
      "text/plain": [
       "<Figure size 576x396 with 1 Axes>"
      ]
     },
     "metadata": {},
     "output_type": "display_data"
    }
   ],
   "source": [
    "plt.style.use(\"seaborn\")\n",
    "plt.plot(t,F,\"black\",label=\"Fidelity\")\n",
    "plt.ylabel(\"Fidelity\", fontsize=18)\n",
    "plt.xlabel(\"Time steps\", fontsize=18)\n",
    "plt.tick_params(axis=\"both\", which=\"major\", labelsize=16)   # helps to increase the size of the values in X and Y axis\n",
    "plt.tick_params(axis=\"both\", which=\"minor\", labelsize=16)\n",
    "plt.title(\"Fidelity after 1st Hadamard gate in presence of noise\", fontsize=18)\n",
    "plt.legend()\n",
    "plt.show()"
   ]
  },
  {
   "cell_type": "code",
   "execution_count": 31,
   "metadata": {},
   "outputs": [
    {
     "name": "stdout",
     "output_type": "stream",
     "text": [
      "200\n",
      "DensityMatrix([[0.00498752+0.j, 0.        +0.j],\n",
      "               [0.        +0.j, 0.99501248+0.j]],\n",
      "              dims=(2,))\n"
     ]
    }
   ],
   "source": [
    "rho_A2 = []\n",
    "for r in ρ_noise:\n",
    "    rho_A2.append(qi.partial_trace(r,[1,2]))\n",
    "    \n",
    "print(len(rho_A2))\n",
    "rho_A2[0]"
   ]
  },
  {
   "cell_type": "code",
   "execution_count": 32,
   "metadata": {},
   "outputs": [
    {
     "name": "stdout",
     "output_type": "stream",
     "text": [
      "200\n",
      "DensityMatrix([[0.00498752+0.j, 0.        +0.j],\n",
      "               [0.        +0.j, 0.99501248+0.j]],\n",
      "              dims=(2,))\n"
     ]
    }
   ],
   "source": [
    "rho_B2 = []\n",
    "for r in ρ_noise:\n",
    "    rho_B2.append(qi.partial_trace(r,[0,2]))\n",
    "    \n",
    "print(len(rho_B2))\n",
    "rho_B2[0]"
   ]
  },
  {
   "cell_type": "code",
   "execution_count": 33,
   "metadata": {},
   "outputs": [
    {
     "name": "stdout",
     "output_type": "stream",
     "text": [
      "200\n",
      "DensityMatrix([[ 0.50124844+0.j, -0.49502182+0.j],\n",
      "               [-0.49502182+0.j,  0.49875156+0.j]],\n",
      "              dims=(2,))\n"
     ]
    }
   ],
   "source": [
    "rho_C2 = []\n",
    "for r in ρ_noise:\n",
    "    rho_C2.append(qi.partial_trace(r,[0,1]))\n",
    "    \n",
    "print(len(rho_C2))\n",
    "rho_C2[0]"
   ]
  },
  {
   "cell_type": "code",
   "execution_count": 34,
   "metadata": {},
   "outputs": [
    {
     "name": "stdout",
     "output_type": "stream",
     "text": [
      "200\n",
      "DensityMatrix([[2.48753638e-05+0.j, 0.00000000e+00+0.j,\n",
      "                0.00000000e+00+0.j, 0.00000000e+00+0.j],\n",
      "               [0.00000000e+00+0.j, 4.96264544e-03+0.j,\n",
      "                0.00000000e+00+0.j, 0.00000000e+00+0.j],\n",
      "               [0.00000000e+00+0.j, 0.00000000e+00+0.j,\n",
      "                4.96264544e-03+0.j, 0.00000000e+00+0.j],\n",
      "               [0.00000000e+00+0.j, 0.00000000e+00+0.j,\n",
      "                0.00000000e+00+0.j, 9.90049834e-01+0.j]],\n",
      "              dims=(2, 2))\n"
     ]
    }
   ],
   "source": [
    "rho_E12 = []\n",
    "for r in ρ_noise:\n",
    "    rho_E12.append(qi.partial_trace(r,[2]))\n",
    "    \n",
    "print(len(rho_E12))\n",
    "rho_E12[0]"
   ]
  },
  {
   "cell_type": "code",
   "execution_count": 35,
   "metadata": {},
   "outputs": [
    {
     "name": "stdout",
     "output_type": "stream",
     "text": [
      "200\n",
      "DensityMatrix([[ 0.00249999+0.j,  0.        +0.j, -0.00246893+0.j,\n",
      "                 0.        +0.j],\n",
      "               [ 0.        +0.j,  0.49874845+0.j,  0.        +0.j,\n",
      "                -0.49255288+0.j],\n",
      "               [-0.00246893+0.j,  0.        +0.j,  0.00248753+0.j,\n",
      "                 0.        +0.j],\n",
      "               [ 0.        +0.j, -0.49255288+0.j,  0.        +0.j,\n",
      "                 0.49626403+0.j]],\n",
      "              dims=(2, 2))\n"
     ]
    }
   ],
   "source": [
    "rho_E23 = []\n",
    "for r in ρ_noise:\n",
    "    rho_E23.append(qi.partial_trace(r,[0]))\n",
    "    \n",
    "print(len(rho_E23))\n",
    "rho_E23[0]"
   ]
  },
  {
   "cell_type": "code",
   "execution_count": 36,
   "metadata": {},
   "outputs": [
    {
     "name": "stdout",
     "output_type": "stream",
     "text": [
      "200\n",
      "DensityMatrix([[ 0.00249999+0.j,  0.        +0.j, -0.00246893+0.j,\n",
      "                 0.        +0.j],\n",
      "               [ 0.        +0.j,  0.49874845+0.j,  0.        +0.j,\n",
      "                -0.49255288+0.j],\n",
      "               [-0.00246893+0.j,  0.        +0.j,  0.00248753+0.j,\n",
      "                 0.        +0.j],\n",
      "               [ 0.        +0.j, -0.49255288+0.j,  0.        +0.j,\n",
      "                 0.49626403+0.j]],\n",
      "              dims=(2, 2))\n"
     ]
    }
   ],
   "source": [
    "rho_E13 = []\n",
    "for r in ρ_noise:\n",
    "    rho_E13.append(qi.partial_trace(r,[1]))\n",
    "    \n",
    "print(len(rho_E13))\n",
    "rho_E13[0]"
   ]
  },
  {
   "cell_type": "code",
   "execution_count": 37,
   "metadata": {},
   "outputs": [],
   "source": [
    "cnot=np.array([[1,0,0,0],[0,1,0,0],[0,0,0,1],[0,0,1,0]])"
   ]
  },
  {
   "cell_type": "code",
   "execution_count": 38,
   "metadata": {},
   "outputs": [],
   "source": [
    "def Decoherent_state_2( t,  T1,  T2,  density_matrix):\n",
    "    \n",
    "    #rho=ρ_noise\n",
    "    rho=density_matrix\n",
    "    \n",
    "    rho=np.dot(np.dot(np.kron(cnot,I),rho),np.kron(cnot,I)) # applying 1st CNOT to qubits=[0,1]\n",
    "    \n",
    "    ED1,ED2,ED3=ED(t,T1,T2)\n",
    "    \n",
    "    Kraus_on_1_ED1=np.kron(np.kron(ED1,I),I)\n",
    "    Kraus_on_1_ED2=np.kron(np.kron(ED2,I),I)\n",
    "    Kraus_on_1_ED3=np.kron(np.kron(ED3,I),I)\n",
    "    \n",
    "    epsilon_D_rho_1=np.dot(np.dot(Kraus_on_1_ED1,rho),np.transpose(np.conj(Kraus_on_1_ED1)))+\\\n",
    "                    np.dot(np.dot(Kraus_on_1_ED2,rho),np.transpose(np.conj(Kraus_on_1_ED2)))+\\\n",
    "                    np.dot(np.dot(Kraus_on_1_ED3,rho),np.transpose(np.conj(Kraus_on_1_ED3)))\n",
    "    \n",
    "    # for rho1 only hadamard is applied to 1st qubit thus noise should also be applied to 1st but can be applied to qubits\n",
    "    # in both the cases the result will be the same\n",
    "    \n",
    "    \n",
    "    #epsilon_D_rho_1=np.dot(np.dot(np.kron(cnot,I),epsilon_D_rho_1),np.kron(cnot,I)) # applying 1st CNOT to qubits=[0,1]\n",
    "    \n",
    "    Kraus_on_2_ED1=np.kron(np.kron(I,ED1),I)\n",
    "    Kraus_on_2_ED2=np.kron(np.kron(I,ED2),I)\n",
    "    Kraus_on_2_ED3=np.kron(np.kron(I,ED3),I)\n",
    "    \n",
    "    epsilon_D_rho_2=np.dot(np.dot(Kraus_on_2_ED1,epsilon_D_rho_1),np.transpose(np.conj(Kraus_on_2_ED1)))+\\\n",
    "                    np.dot(np.dot(Kraus_on_2_ED2,epsilon_D_rho_1),np.transpose(np.conj(Kraus_on_2_ED2)))+\\\n",
    "                    np.dot(np.dot(Kraus_on_2_ED3,epsilon_D_rho_1),np.transpose(np.conj(Kraus_on_2_ED3)))\n",
    "    \n",
    "    Kraus_on_3_ED1=np.kron(np.kron(I,I),ED1)\n",
    "    Kraus_on_3_ED2=np.kron(np.kron(I,I),ED2)\n",
    "    Kraus_on_3_ED3=np.kron(np.kron(I,I),ED3)\n",
    "    \n",
    "    epsilon_D_rho_3=np.dot(np.dot(Kraus_on_3_ED1,epsilon_D_rho_2),np.transpose(np.conj(Kraus_on_3_ED1)))+\\\n",
    "                    np.dot(np.dot(Kraus_on_3_ED2,epsilon_D_rho_2),np.transpose(np.conj(Kraus_on_3_ED2)))+\\\n",
    "                    np.dot(np.dot(Kraus_on_3_ED3,epsilon_D_rho_2),np.transpose(np.conj(Kraus_on_3_ED3)))\n",
    "    \n",
    "    return epsilon_D_rho_3\n",
    "    \n",
    "    "
   ]
  },
  {
   "cell_type": "code",
   "execution_count": 39,
   "metadata": {},
   "outputs": [
    {
     "data": {
      "text/plain": [
       "200"
      ]
     },
     "execution_count": 39,
     "metadata": {},
     "output_type": "execute_result"
    }
   ],
   "source": [
    "ρ_noise2=[]\n",
    "ρ_noise2=[Decoherent_state_2(time,T1,T2,density_matrix) for time,density_matrix in zip(t,ρ_noise)] \n",
    "len(ρ_noise2)"
   ]
  },
  {
   "cell_type": "code",
   "execution_count": 40,
   "metadata": {},
   "outputs": [],
   "source": [
    "rho2=density_matrix(2)  # this is the pure density matrix \n",
    "F2=[]\n",
    "for rho1 in ρ_noise2:\n",
    "    F2.append(Fidelity(rho1,rho2))\n",
    "    "
   ]
  },
  {
   "cell_type": "code",
   "execution_count": 41,
   "metadata": {},
   "outputs": [
    {
     "name": "stderr",
     "output_type": "stream",
     "text": [
      "C:\\Users\\Arunava\\anaconda3\\lib\\site-packages\\matplotlib\\cbook\\__init__.py:1289: ComplexWarning: Casting complex values to real discards the imaginary part\n",
      "  return np.asarray(x, float)\n"
     ]
    },
    {
     "data": {
      "image/png": "[encoded data removed]",
      "text/plain": [
       "<Figure size 576x396 with 1 Axes>"
      ]
     },
     "metadata": {},
     "output_type": "display_data"
    }
   ],
   "source": [
    "plt.style.use(\"seaborn\")\n",
    "plt.plot(t,F2,\"black\",label=\"Fidelity\")\n",
    "plt.ylabel(\"Fidelity\", fontsize=18)\n",
    "plt.xlabel(\"Time steps\", fontsize=18)\n",
    "plt.tick_params(axis=\"both\", which=\"major\", labelsize=16)   # helps to increase the size of the values in X and Y axis\n",
    "plt.tick_params(axis=\"both\", which=\"minor\", labelsize=16)\n",
    "plt.title(\"Fidelity after Hadamard+CNOT gate in presence of noise\", fontsize=18)\n",
    "plt.legend()\n",
    "plt.show()"
   ]
  },
  {
   "cell_type": "code",
   "execution_count": 62,
   "metadata": {},
   "outputs": [
    {
     "name": "stdout",
     "output_type": "stream",
     "text": [
      "200\n",
      "DensityMatrix([[0.00747195+0.j, 0.        +0.j],\n",
      "               [0.        +0.j, 0.99252805+0.j]],\n",
      "              dims=(2,))\n"
     ]
    }
   ],
   "source": [
    "rho_A3 = []\n",
    "for r in ρ_noise2:\n",
    "    rho_A3.append(qi.partial_trace(r,[1,2]))\n",
    "    \n",
    "print(len(rho_A3))\n",
    "rho_A3[0]"
   ]
  },
  {
   "cell_type": "code",
   "execution_count": 84,
   "metadata": {},
   "outputs": [
    {
     "name": "stdout",
     "output_type": "stream",
     "text": [
      "200\n",
      "DensityMatrix([[0.50001554+0.j, 0.        +0.j],\n",
      "               [0.        +0.j, 0.49998446+0.j]],\n",
      "              dims=(2,))\n"
     ]
    }
   ],
   "source": [
    "rho_B3 = []\n",
    "for r in ρ_noise2:\n",
    "    rho_B3.append(qi.partial_trace(r,[0,2]))\n",
    "    \n",
    "print(len(rho_B3))\n",
    "rho_B3[0]"
   ]
  },
  {
   "cell_type": "code",
   "execution_count": 88,
   "metadata": {},
   "outputs": [
    {
     "name": "stdout",
     "output_type": "stream",
     "text": [
      "200\n",
      "DensityMatrix([[0.50249376+0.j, 0.        +0.j],\n",
      "               [0.        +0.j, 0.49750624+0.j]],\n",
      "              dims=(2,))\n"
     ]
    }
   ],
   "source": [
    "rho_C3 = []\n",
    "for r in ρ_noise2:\n",
    "    rho_C3.append(qi.partial_trace(r,[0,1]))\n",
    "    \n",
    "print(len(rho_C3))\n",
    "rho_C3[0]"
   ]
  },
  {
   "cell_type": "code",
   "execution_count": 42,
   "metadata": {},
   "outputs": [
    {
     "name": "stdout",
     "output_type": "stream",
     "text": [
      "200\n",
      "DensityMatrix([[0.00373609+0.j, 0.        +0.j, 0.        +0.j,\n",
      "                0.        +0.j],\n",
      "               [0.        +0.j, 0.49627945+0.j, 0.        +0.j,\n",
      "                0.        +0.j],\n",
      "               [0.        +0.j, 0.        +0.j, 0.00373586+0.j,\n",
      "                0.        +0.j],\n",
      "               [0.        +0.j, 0.        +0.j, 0.        +0.j,\n",
      "                0.4962486 +0.j]],\n",
      "              dims=(2, 2))\n"
     ]
    }
   ],
   "source": [
    "rho_F12 = []\n",
    "for r in ρ_noise2:\n",
    "    rho_F12.append(qi.partial_trace(r,[2]))\n",
    "    \n",
    "print(len(rho_F12))\n",
    "rho_F12[0]"
   ]
  },
  {
   "cell_type": "code",
   "execution_count": 43,
   "metadata": {},
   "outputs": [
    {
     "name": "stdout",
     "output_type": "stream",
     "text": [
      "200\n",
      "DensityMatrix([[ 0.00498443+0.j,  0.        +0.j,  0.        +0.j,\n",
      "                -0.00244437+0.j],\n",
      "               [ 0.        +0.j,  0.49750933+0.j, -0.4876519 +0.j,\n",
      "                 0.        +0.j],\n",
      "               [ 0.        +0.j, -0.4876519 +0.j,  0.49503111+0.j,\n",
      "                 0.        +0.j],\n",
      "               [-0.00244437+0.j,  0.        +0.j,  0.        +0.j,\n",
      "                 0.00247513+0.j]],\n",
      "              dims=(2, 2))\n"
     ]
    }
   ],
   "source": [
    "rho_F23 = []\n",
    "for r in ρ_noise2:\n",
    "    rho_F23.append(qi.partial_trace(r,[0]))\n",
    "    \n",
    "print(len(rho_F23))\n",
    "rho_F23[0]"
   ]
  },
  {
   "cell_type": "code",
   "execution_count": 44,
   "metadata": {},
   "outputs": [
    {
     "name": "stdout",
     "output_type": "stream",
     "text": [
      "200\n",
      "DensityMatrix([[0.00375461+0.j, 0.        +0.j, 0.        +0.j,\n",
      "                0.        +0.j],\n",
      "               [0.        +0.j, 0.49873915+0.j, 0.        +0.j,\n",
      "                0.        +0.j],\n",
      "               [0.        +0.j, 0.        +0.j, 0.00371734+0.j,\n",
      "                0.        +0.j],\n",
      "               [0.        +0.j, 0.        +0.j, 0.        +0.j,\n",
      "                0.4937889 +0.j]],\n",
      "              dims=(2, 2))\n"
     ]
    }
   ],
   "source": [
    "rho_F13 = []\n",
    "for r in ρ_noise2:\n",
    "    rho_F13.append(qi.partial_trace(r,[1]))\n",
    "    \n",
    "print(len(rho_F13))\n",
    "rho_F13[0]"
   ]
  },
  {
   "cell_type": "code",
   "execution_count": 45,
   "metadata": {},
   "outputs": [
    {
     "data": {
      "text/plain": [
       "tensor([[1, 0, 0, 0, 0, 0, 0, 0],\n",
       "        [0, 1, 0, 0, 0, 0, 0, 0],\n",
       "        [0, 0, 1, 0, 0, 0, 0, 0],\n",
       "        [0, 0, 0, 1, 0, 0, 0, 0],\n",
       "        [0, 0, 0, 0, 0, 1, 0, 0],\n",
       "        [0, 0, 0, 0, 1, 0, 0, 0],\n",
       "        [0, 0, 0, 0, 0, 0, 0, 1],\n",
       "        [0, 0, 0, 0, 0, 0, 1, 0]], requires_grad=True)"
      ]
     },
     "execution_count": 45,
     "metadata": {},
     "output_type": "execute_result"
    }
   ],
   "source": [
    "cnot_0_2=np.array([[1,0,0,0,0,0,0,0],[0,1,0,0,0,0,0,0],[0,0,1,0,0,0,0,0],[0,0,0,1,0,0,0,0],[0,0,0,0,0,1,0,0],[0,0,0,0,1,0,0,0],\n",
    "                  [0,0,0,0,0,0,0,1],[0,0,0,0,0,0,1,0]])\n",
    "cnot_0_2"
   ]
  },
  {
   "cell_type": "code",
   "execution_count": 46,
   "metadata": {},
   "outputs": [],
   "source": [
    "def Decoherent_state_3( t,  T1,  T2,  density_matrix):\n",
    "    \n",
    "    #rho=ρ_noise\n",
    "    rho=density_matrix\n",
    "    \n",
    "    rho=np.dot(np.dot(cnot_0_2,rho),cnot_0_2) # applying 1st CNOT to qubits=[0,1]\n",
    "\n",
    "    ED1,ED2,ED3=ED(t,T1,T2)\n",
    "    \n",
    "    Kraus_on_1_ED1=np.kron(np.kron(ED1,I),I)\n",
    "    Kraus_on_1_ED2=np.kron(np.kron(ED2,I),I)\n",
    "    Kraus_on_1_ED3=np.kron(np.kron(ED3,I),I)\n",
    "    \n",
    "    epsilon_D_rho_1=np.dot(np.dot(Kraus_on_1_ED1,rho),np.transpose(np.conj(Kraus_on_1_ED1)))+\\\n",
    "                    np.dot(np.dot(Kraus_on_1_ED2,rho),np.transpose(np.conj(Kraus_on_1_ED2)))+\\\n",
    "                    np.dot(np.dot(Kraus_on_1_ED3,rho),np.transpose(np.conj(Kraus_on_1_ED3)))\n",
    "    \n",
    "    #epsilon_D_rho_1=np.dot(np.dot(np.kron(cnot,I),epsilon_D_rho_1),np.kron(cnot,I)) # applying 1st CNOT to qubits=[0,1]\n",
    "    \n",
    "    Kraus_on_2_ED1=np.kron(np.kron(I,ED1),I)\n",
    "    Kraus_on_2_ED2=np.kron(np.kron(I,ED2),I)\n",
    "    Kraus_on_2_ED3=np.kron(np.kron(I,ED3),I)\n",
    "    \n",
    "    epsilon_D_rho_2=np.dot(np.dot(Kraus_on_2_ED1,epsilon_D_rho_1),np.transpose(np.conj(Kraus_on_2_ED1)))+\\\n",
    "                    np.dot(np.dot(Kraus_on_2_ED2,epsilon_D_rho_1),np.transpose(np.conj(Kraus_on_2_ED2)))+\\\n",
    "                    np.dot(np.dot(Kraus_on_2_ED3,epsilon_D_rho_1),np.transpose(np.conj(Kraus_on_2_ED3)))\n",
    "    \n",
    "    Kraus_on_3_ED1=np.kron(np.kron(I,I),ED1)\n",
    "    Kraus_on_3_ED2=np.kron(np.kron(I,I),ED2)\n",
    "    Kraus_on_3_ED3=np.kron(np.kron(I,I),ED3)\n",
    "    \n",
    "    epsilon_D_rho_3=np.dot(np.dot(Kraus_on_3_ED1,epsilon_D_rho_2),np.transpose(np.conj(Kraus_on_3_ED1)))+\\\n",
    "                    np.dot(np.dot(Kraus_on_3_ED2,epsilon_D_rho_2),np.transpose(np.conj(Kraus_on_3_ED2)))+\\\n",
    "                    np.dot(np.dot(Kraus_on_3_ED3,epsilon_D_rho_2),np.transpose(np.conj(Kraus_on_3_ED3)))\n",
    "    \n",
    "    return epsilon_D_rho_3\n",
    "\n",
    "    "
   ]
  },
  {
   "cell_type": "code",
   "execution_count": 47,
   "metadata": {},
   "outputs": [
    {
     "data": {
      "text/plain": [
       "200"
      ]
     },
     "execution_count": 47,
     "metadata": {},
     "output_type": "execute_result"
    }
   ],
   "source": [
    "ρ_noise3=[]\n",
    "ρ_noise3=[Decoherent_state_3(time,T1,T2,density_matrix) for time,density_matrix in zip(t,ρ_noise2)] \n",
    "len(ρ_noise3)"
   ]
  },
  {
   "cell_type": "code",
   "execution_count": 48,
   "metadata": {},
   "outputs": [],
   "source": [
    "rho2=density_matrix(3)  # this is the pure density matrix \n",
    "F3=[]\n",
    "for rho1 in ρ_noise3:\n",
    "    F3.append(Fidelity(rho1,rho2))\n",
    "    "
   ]
  },
  {
   "cell_type": "code",
   "execution_count": 49,
   "metadata": {},
   "outputs": [
    {
     "name": "stderr",
     "output_type": "stream",
     "text": [
      "C:\\Users\\Arunava\\anaconda3\\lib\\site-packages\\matplotlib\\cbook\\__init__.py:1289: ComplexWarning: Casting complex values to real discards the imaginary part\n",
      "  return np.asarray(x, float)\n"
     ]
    },
    {
     "data": {
      "image/png": "[encoded data removed]",
      "text/plain": [
       "<Figure size 576x396 with 1 Axes>"
      ]
     },
     "metadata": {},
     "output_type": "display_data"
    }
   ],
   "source": [
    "plt.style.use(\"seaborn\")\n",
    "plt.plot(t,F3,\"black\",label=\"Fidelity\")\n",
    "plt.ylabel(\"Fidelity\", fontsize=18)\n",
    "plt.xlabel(\"Time steps\", fontsize=18)\n",
    "plt.tick_params(axis=\"both\", which=\"major\", labelsize=16)   # helps to increase the size of the values in X and Y axis\n",
    "plt.tick_params(axis=\"both\", which=\"minor\", labelsize=16)\n",
    "plt.title(\"Fidelity after Hadamard+CNOT+2nd CNOT gate in presence of noise\", fontsize=18)\n",
    "plt.legend()\n",
    "plt.show()"
   ]
  },
  {
   "cell_type": "code",
   "execution_count": 68,
   "metadata": {},
   "outputs": [
    {
     "name": "stdout",
     "output_type": "stream",
     "text": [
      "200\n",
      "DensityMatrix([[0.49879808+0.j, 0.        +0.j],\n",
      "               [0.        +0.j, 0.50120192+0.j]],\n",
      "              dims=(2,))\n"
     ]
    }
   ],
   "source": [
    "rho_A4 = []\n",
    "for r in ρ_noise3:\n",
    "    rho_A4.append(qi.partial_trace(r,[1,2]))\n",
    "    \n",
    "print(len(rho_A4))\n",
    "rho_A4[0]"
   ]
  },
  {
   "cell_type": "code",
   "execution_count": 90,
   "metadata": {},
   "outputs": [
    {
     "name": "stdout",
     "output_type": "stream",
     "text": [
      "200\n",
      "DensityMatrix([[0.50126394+0.j, 0.        +0.j],\n",
      "               [0.        +0.j, 0.49873606+0.j]],\n",
      "              dims=(2,))\n"
     ]
    }
   ],
   "source": [
    "rho_B4 = []\n",
    "for r in ρ_noise3:\n",
    "    rho_B4.append(qi.partial_trace(r,[0,2]))\n",
    "    \n",
    "print(len(rho_B4))\n",
    "rho_B4[0]"
   ]
  },
  {
   "cell_type": "code",
   "execution_count": 91,
   "metadata": {},
   "outputs": [
    {
     "name": "stdout",
     "output_type": "stream",
     "text": [
      "200\n",
      "DensityMatrix([[0.50373597+0.j, 0.        +0.j],\n",
      "               [0.        +0.j, 0.49626403+0.j]],\n",
      "              dims=(2,))\n"
     ]
    }
   ],
   "source": [
    "rho_C4 = []\n",
    "for r in ρ_noise3:\n",
    "    rho_C4.append(qi.partial_trace(r,[0,1]))\n",
    "    \n",
    "print(len(rho_C4))\n",
    "rho_C4[0]"
   ]
  },
  {
   "cell_type": "code",
   "execution_count": 50,
   "metadata": {},
   "outputs": [
    {
     "name": "stdout",
     "output_type": "stream",
     "text": [
      "200\n",
      "DensityMatrix([[0.49140959+0.j, 0.        +0.j, 0.        +0.j,\n",
      "                0.        +0.j],\n",
      "               [0.        +0.j, 0.00985435+0.j, 0.        +0.j,\n",
      "                0.        +0.j],\n",
      "               [0.        +0.j, 0.        +0.j, 0.00738849+0.j,\n",
      "                0.        +0.j],\n",
      "               [0.        +0.j, 0.        +0.j, 0.        +0.j,\n",
      "                0.49134758+0.j]],\n",
      "              dims=(2, 2))\n"
     ]
    }
   ],
   "source": [
    "rho_G12 = []\n",
    "for r in ρ_noise3:\n",
    "    rho_G12.append(qi.partial_trace(r,[2]))\n",
    "    \n",
    "print(len(rho_G12))\n",
    "rho_G12[0]"
   ]
  },
  {
   "cell_type": "code",
   "execution_count": 51,
   "metadata": {},
   "outputs": [
    {
     "name": "stdout",
     "output_type": "stream",
     "text": [
      "200\n",
      "DensityMatrix([[0.00746269+0.j, 0.        +0.j, 0.        +0.j,\n",
      "                0.        +0.j],\n",
      "               [0.        +0.j, 0.49627328+0.j, 0.        +0.j,\n",
      "                0.        +0.j],\n",
      "               [0.        +0.j, 0.        +0.j, 0.49380124+0.j,\n",
      "                0.        +0.j],\n",
      "               [0.        +0.j, 0.        +0.j, 0.        +0.j,\n",
      "                0.00246278+0.j]],\n",
      "              dims=(2, 2))\n"
     ]
    }
   ],
   "source": [
    "rho_G23 = []\n",
    "for r in ρ_noise3:\n",
    "    rho_G23.append(qi.partial_trace(r,[0]))\n",
    "    \n",
    "print(len(rho_G23))\n",
    "rho_G23[0]"
   ]
  },
  {
   "cell_type": "code",
   "execution_count": 52,
   "metadata": {},
   "outputs": [
    {
     "name": "stdout",
     "output_type": "stream",
     "text": [
      "200\n",
      "DensityMatrix([[0.00623285+0.j, 0.        +0.j, 0.        +0.j,\n",
      "                0.        +0.j],\n",
      "               [0.        +0.j, 0.49750312+0.j, 0.        +0.j,\n",
      "                0.        +0.j],\n",
      "               [0.        +0.j, 0.        +0.j, 0.49256523+0.j,\n",
      "                0.        +0.j],\n",
      "               [0.        +0.j, 0.        +0.j, 0.        +0.j,\n",
      "                0.0036988 +0.j]],\n",
      "              dims=(2, 2))\n"
     ]
    }
   ],
   "source": [
    "rho_G13 = []\n",
    "for r in ρ_noise3:\n",
    "    rho_G13.append(qi.partial_trace(r,[1]))\n",
    "    \n",
    "print(len(rho_G13))\n",
    "rho_G13[0]"
   ]
  },
  {
   "cell_type": "code",
   "execution_count": 53,
   "metadata": {},
   "outputs": [],
   "source": [
    "H=1/np.sqrt(2)*np.array([[1,1],[1,-1]])"
   ]
  },
  {
   "cell_type": "code",
   "execution_count": 54,
   "metadata": {},
   "outputs": [],
   "source": [
    "def Decoherent_state_4( t,  T1,  T2, density_matrix):\n",
    "    \n",
    "    #rho=ρ_noise\n",
    "    rho=density_matrix\n",
    "    \n",
    "    rho=np.dot(np.dot(np.kron(np.kron(H,I),I),rho),np.transpose(np.conj(np.kron(np.kron(H,I),I))))\n",
    "    \n",
    "    ED1,ED2,ED3=ED(t,T1,T2)\n",
    "    \n",
    "    Kraus_on_1_ED1=np.kron(np.kron(ED1,I),I)\n",
    "    Kraus_on_1_ED2=np.kron(np.kron(ED2,I),I)\n",
    "    Kraus_on_1_ED3=np.kron(np.kron(ED3,I),I)\n",
    "    \n",
    "    epsilon_D_rho_1=np.dot(np.dot(Kraus_on_1_ED1,rho),np.transpose(np.conj(Kraus_on_1_ED1)))+\\\n",
    "                    np.dot(np.dot(Kraus_on_1_ED2,rho),np.transpose(np.conj(Kraus_on_1_ED2)))+\\\n",
    "                    np.dot(np.dot(Kraus_on_1_ED3,rho),np.transpose(np.conj(Kraus_on_1_ED3)))\n",
    "    \n",
    "    # for rho1 only hadamard is applied to 1st qubit thus noise should also be applied to 1st but can be applied to qubits\n",
    "    # in both the cases the result will be the same\n",
    "    \n",
    "    Kraus_on_2_ED1=np.kron(np.kron(I,ED1),I)\n",
    "    Kraus_on_2_ED2=np.kron(np.kron(I,ED2),I)\n",
    "    Kraus_on_2_ED3=np.kron(np.kron(I,ED3),I)\n",
    "    \n",
    "    epsilon_D_rho_2=np.dot(np.dot(Kraus_on_2_ED1,epsilon_D_rho_1),np.transpose(np.conj(Kraus_on_2_ED1)))+\\\n",
    "                    np.dot(np.dot(Kraus_on_2_ED2,epsilon_D_rho_1),np.transpose(np.conj(Kraus_on_2_ED2)))+\\\n",
    "                    np.dot(np.dot(Kraus_on_2_ED3,epsilon_D_rho_1),np.transpose(np.conj(Kraus_on_2_ED3)))\n",
    "    \n",
    "    Kraus_on_3_ED1=np.kron(np.kron(I,I),ED1)\n",
    "    Kraus_on_3_ED2=np.kron(np.kron(I,I),ED2)\n",
    "    Kraus_on_3_ED3=np.kron(np.kron(I,I),ED3)\n",
    "    \n",
    "    epsilon_D_rho_3=np.dot(np.dot(Kraus_on_3_ED1,epsilon_D_rho_2),np.transpose(np.conj(Kraus_on_3_ED1)))+\\\n",
    "                    np.dot(np.dot(Kraus_on_3_ED2,epsilon_D_rho_2),np.transpose(np.conj(Kraus_on_3_ED2)))+\\\n",
    "                    np.dot(np.dot(Kraus_on_3_ED3,epsilon_D_rho_2),np.transpose(np.conj(Kraus_on_3_ED3)))\n",
    "    \n",
    "    return epsilon_D_rho_3"
   ]
  },
  {
   "cell_type": "code",
   "execution_count": 55,
   "metadata": {},
   "outputs": [
    {
     "data": {
      "text/plain": [
       "200"
      ]
     },
     "execution_count": 55,
     "metadata": {},
     "output_type": "execute_result"
    }
   ],
   "source": [
    "ρ_noise4=[]\n",
    "ρ_noise4=[Decoherent_state_4(time,T1,T2,density_matrix) for time,density_matrix in zip(t,ρ_noise3)] \n",
    "len(ρ_noise4)"
   ]
  },
  {
   "cell_type": "code",
   "execution_count": 56,
   "metadata": {},
   "outputs": [],
   "source": [
    "rho2=density_matrix(4)  # this is the pure density matrix \n",
    "F4=[]\n",
    "for rho1 in ρ_noise4:\n",
    "    F4.append(Fidelity(rho1,rho2))\n",
    "    "
   ]
  },
  {
   "cell_type": "code",
   "execution_count": 57,
   "metadata": {},
   "outputs": [
    {
     "name": "stderr",
     "output_type": "stream",
     "text": [
      "C:\\Users\\Arunava\\anaconda3\\lib\\site-packages\\matplotlib\\cbook\\__init__.py:1289: ComplexWarning: Casting complex values to real discards the imaginary part\n",
      "  return np.asarray(x, float)\n"
     ]
    },
    {
     "data": {
      "image/png": "[encoded data removed]",
      "text/plain": [
       "<Figure size 576x396 with 1 Axes>"
      ]
     },
     "metadata": {},
     "output_type": "display_data"
    }
   ],
   "source": [
    "plt.style.use(\"seaborn\")\n",
    "plt.plot(t,F4,\"black\",label=\"Fidelity\")\n",
    "plt.ylabel(\"Fidelity\", fontsize=18)\n",
    "plt.xlabel(\"Time steps\", fontsize=18)\n",
    "plt.tick_params(axis=\"both\", which=\"major\", labelsize=16)   # helps to increase the size of the values in X and Y axis\n",
    "plt.tick_params(axis=\"both\", which=\"minor\", labelsize=16)\n",
    "plt.title(\"Fidelity after Hadamard+CNOT+2nd CNOT+last Hadamard gate in presence of noise\", fontsize=18)\n",
    "plt.legend()\n",
    "plt.show()"
   ]
  },
  {
   "cell_type": "code",
   "execution_count": 75,
   "metadata": {},
   "outputs": [
    {
     "name": "stdout",
     "output_type": "stream",
     "text": [
      "200\n",
      "DensityMatrix([[0.50974326+0.j, 0.        +0.j],\n",
      "               [0.        +0.j, 0.49025674+0.j]],\n",
      "              dims=(2,))\n"
     ]
    }
   ],
   "source": [
    "rho_A5 = []\n",
    "for r in ρ_noise4:\n",
    "    rho_A5.append(qi.partial_trace(r,[1,2]))\n",
    "    \n",
    "print(len(rho_A5))\n",
    "rho_A5[14]"
   ]
  },
  {
   "cell_type": "code",
   "execution_count": 92,
   "metadata": {},
   "outputs": [
    {
     "name": "stdout",
     "output_type": "stream",
     "text": [
      "200\n",
      "DensityMatrix([[0.53913311+0.j, 0.        +0.j],\n",
      "               [0.        +0.j, 0.46086689+0.j]],\n",
      "              dims=(2,))\n"
     ]
    }
   ],
   "source": [
    "rho_B5 = []\n",
    "for r in ρ_noise4:\n",
    "    rho_B5.append(qi.partial_trace(r,[0,2]))\n",
    "    \n",
    "print(len(rho_B5))\n",
    "rho_B5[14]"
   ]
  },
  {
   "cell_type": "code",
   "execution_count": 93,
   "metadata": {},
   "outputs": [
    {
     "name": "stdout",
     "output_type": "stream",
     "text": [
      "200\n",
      "DensityMatrix([[0.51840279+0.j, 0.04935718+0.j],\n",
      "               [0.04935718+0.j, 0.48159721+0.j]],\n",
      "              dims=(2,))\n"
     ]
    }
   ],
   "source": [
    "rho_C5 = []\n",
    "for r in ρ_noise4:\n",
    "    rho_C5.append(qi.partial_trace(r,[0,1]))\n",
    "    \n",
    "print(len(rho_C5))\n",
    "rho_C5[14]"
   ]
  },
  {
   "cell_type": "code",
   "execution_count": 58,
   "metadata": {},
   "outputs": [
    {
     "name": "stdout",
     "output_type": "stream",
     "text": [
      "200\n",
      "DensityMatrix([[4.09074507e-01+0.j, 0.00000000e+00+0.j,\n",
      "                0.00000000e+00+0.j, 1.38777878e-17+0.j],\n",
      "               [0.00000000e+00+0.j, 1.30058605e-01+0.j,\n",
      "                3.46944695e-18+0.j, 0.00000000e+00+0.j],\n",
      "               [0.00000000e+00+0.j, 3.46944695e-18+0.j,\n",
      "                1.00668751e-01+0.j, 0.00000000e+00+0.j],\n",
      "               [1.38777878e-17+0.j, 0.00000000e+00+0.j,\n",
      "                0.00000000e+00+0.j, 3.60198137e-01+0.j]],\n",
      "              dims=(2, 2))\n"
     ]
    }
   ],
   "source": [
    "rho_H12 = []\n",
    "for r in ρ_noise4:\n",
    "    rho_H12.append(qi.partial_trace(r,[2]))\n",
    "    \n",
    "print(len(rho_H12))\n",
    "rho_H12[14]"
   ]
  },
  {
   "cell_type": "code",
   "execution_count": 59,
   "metadata": {},
   "outputs": [
    {
     "name": "stdout",
     "output_type": "stream",
     "text": [
      "200\n",
      "DensityMatrix([[ 0.27948811+0.j,  0.        +0.j, -0.13766147+0.j,\n",
      "                 0.        +0.j],\n",
      "               [ 0.        +0.j,  0.23891468+0.j,  0.        +0.j,\n",
      "                 0.18701866+0.j],\n",
      "               [-0.13766147+0.j,  0.        +0.j,  0.259645  +0.j,\n",
      "                 0.        +0.j],\n",
      "               [ 0.        +0.j,  0.18701866+0.j,  0.        +0.j,\n",
      "                 0.22195221+0.j]],\n",
      "              dims=(2, 2))\n"
     ]
    }
   ],
   "source": [
    "rho_H23 = []\n",
    "for r in ρ_noise4:\n",
    "    rho_H23.append(qi.partial_trace(r,[0]))\n",
    "    \n",
    "print(len(rho_H23))\n",
    "rho_H23[14]"
   ]
  },
  {
   "cell_type": "code",
   "execution_count": 60,
   "metadata": {},
   "outputs": [
    {
     "name": "stdout",
     "output_type": "stream",
     "text": [
      "200\n",
      "DensityMatrix([[ 0.26425233+0.j,  0.        +0.j, -0.13714052+0.j,\n",
      "                 0.        +0.j],\n",
      "               [ 0.        +0.j,  0.25415046+0.j,  0.        +0.j,\n",
      "                 0.18649771+0.j],\n",
      "               [-0.13714052+0.j,  0.        +0.j,  0.24549093+0.j,\n",
      "                 0.        +0.j],\n",
      "               [ 0.        +0.j,  0.18649771+0.j,  0.        +0.j,\n",
      "                 0.23610628+0.j]],\n",
      "              dims=(2, 2))\n"
     ]
    }
   ],
   "source": [
    "rho_H13 = []\n",
    "for r in ρ_noise4:\n",
    "    rho_H13.append(qi.partial_trace(r,[1]))\n",
    "    \n",
    "print(len(rho_H13))\n",
    "rho_H13[14]"
   ]
  },
  {
   "cell_type": "code",
   "execution_count": 76,
   "metadata": {},
   "outputs": [],
   "source": [
    "# testing partial trace with three qubit |GHZ> state"
   ]
  },
  {
   "cell_type": "code",
   "execution_count": 77,
   "metadata": {},
   "outputs": [],
   "source": [
    "a=np.array([[1,0,0,0,0,0,0,1],[0,0,0,0,0,0,0,0],[0,0,0,0,0,0,0,0],[0,0,0,0,0,0,0,0],[0,0,0,0,0,0,0,0],[0,0,0,0,0,0,0,0],\n",
    "                  [0,0,0,0,0,0,0,0],[1,0,0,0,0,0,0,1]])"
   ]
  },
  {
   "cell_type": "code",
   "execution_count": 44,
   "metadata": {},
   "outputs": [],
   "source": [
    "#rho_B = qi.partial_trace(a,[0])\n",
    "rho_A = qi.partial_trace(a,[0,1])"
   ]
  },
  {
   "cell_type": "code",
   "execution_count": 45,
   "metadata": {},
   "outputs": [
    {
     "name": "stdout",
     "output_type": "stream",
     "text": [
      "DensityMatrix([[1.+0.j, 0.+0.j],\n",
      "               [0.+0.j, 1.+0.j]],\n",
      "              dims=(2,))\n"
     ]
    }
   ],
   "source": [
    "rho_A"
   ]
  },
  {
   "cell_type": "code",
   "execution_count": 53,
   "metadata": {},
   "outputs": [
    {
     "name": "stdout",
     "output_type": "stream",
     "text": [
      "14 -> (0.553684849478386+0j)\n",
      "15 -> (0.5341141881368154+0j)\n"
     ]
    }
   ],
   "source": [
    "for index,fidelity in enumerate(F4):\n",
    "    if fidelity>0.53 and fidelity<0.57:\n",
    "        print(index,\"->\",fidelity)"
   ]
  },
  {
   "cell_type": "code",
   "execution_count": 54,
   "metadata": {},
   "outputs": [
    {
     "data": {
      "text/plain": [
       "(0.553684849478386+0j)"
      ]
     },
     "execution_count": 54,
     "metadata": {},
     "output_type": "execute_result"
    }
   ],
   "source": [
    "Fidelity(ρ_noise4[14],density_matrix(4))"
   ]
  },
  {
   "cell_type": "code",
   "execution_count": 66,
   "metadata": {},
   "outputs": [],
   "source": [
    "rho=ρ_noise4[14]"
   ]
  },
  {
   "cell_type": "code",
   "execution_count": 73,
   "metadata": {},
   "outputs": [],
   "source": [
    "rho_1 = qi.partial_trace(rho,[1,2])"
   ]
  },
  {
   "cell_type": "code",
   "execution_count": 74,
   "metadata": {},
   "outputs": [
    {
     "name": "stdout",
     "output_type": "stream",
     "text": [
      "DensityMatrix([[0.50974326+0.j, 0.        +0.j],\n",
      "               [0.        +0.j, 0.49025674+0.j]],\n",
      "              dims=(2,))\n"
     ]
    }
   ],
   "source": [
    "rho_1"
   ]
  },
  {
   "cell_type": "code",
   "execution_count": 180,
   "metadata": {},
   "outputs": [
    {
     "data": {
      "text/plain": [
       "'\\nIn the previous step: Rho = ρ = 0.50974326*|0><0| +  0.49025674*|1><1|\\n\\nThus success probability with noise become 0.49 if the measurement output is |1>\\n\\n'"
      ]
     },
     "execution_count": 180,
     "metadata": {},
     "output_type": "execute_result"
    }
   ],
   "source": [
    "'''\n",
    "In the previous step: Rho = ρ = 0.50974326*|0><0| +  0.49025674*|1><1|\n",
    "\n",
    "Thus success probability with noise become 0.49 if the measurement output is |1>\n",
    "\n",
    "'''"
   ]
  },
  {
   "cell_type": "code",
   "execution_count": 46,
   "metadata": {},
   "outputs": [],
   "source": [
    "# The time taken to perform each of the operations is 0.125e-7 or 12.5 ns"
   ]
  },
  {
   "cell_type": "code",
   "execution_count": 81,
   "metadata": {},
   "outputs": [
    {
     "name": "stdout",
     "output_type": "stream",
     "text": [
      "index-> 0 0 element-> (0.2120653664499242+0j)\n",
      "index-> 0 3 element-> (-0.10243524037160234+0j)\n",
      "index-> 0 4 element-> (-0.15971547833592856+0j)\n",
      "index-> 0 7 element-> (-0.09685185884069866+0j)\n",
      "index-> 1 1 element-> (0.0674227437966162+0j)\n",
      "index-> 1 2 element-> (-0.019989893865673014+0j)\n",
      "index-> 1 5 element-> (0.022054006822106908+0j)\n",
      "index-> 1 6 element-> (-0.0040264856209018315+0j)\n",
      "index-> 2 1 element-> (-0.019989893865673014+0j)\n",
      "index-> 2 2 element-> (0.052186961249236+0j)\n",
      "index-> 2 5 element-> (0.004026485620901832+0j)\n",
      "index-> 2 6 element-> (0.02257495567792553+0j)\n",
      "index-> 3 0 element-> (-0.10243524037160234+0j)\n",
      "index-> 3 3 element-> (0.1867277196438131+0j)\n",
      "index-> 3 4 element-> (0.09685185884069866+0j)\n",
      "index-> 3 7 element-> (0.16444369990997243+0j)\n",
      "index-> 4 0 element-> (-0.15971547833592856+0j)\n",
      "index-> 4 3 element-> (0.09685185884069866+0j)\n",
      "index-> 4 4 element-> (0.19700914100738973+0j)\n",
      "index-> 4 7 element-> (0.10243524037160236+0j)\n",
      "index-> 5 1 element-> (0.022054006822106908+0j)\n",
      "index-> 5 2 element-> (0.0040264856209018315+0j)\n",
      "index-> 5 5 element-> (0.06263586111251794+0j)\n",
      "index-> 5 6 element-> (0.019989893865673018+0j)\n",
      "index-> 6 1 element-> (-0.004026485620901832+0j)\n",
      "index-> 6 2 element-> (0.02257495567792553+0j)\n",
      "index-> 6 5 element-> (0.019989893865673018+0j)\n",
      "index-> 6 6 element-> (0.04848178926909163+0j)\n",
      "index-> 7 0 element-> (-0.09685185884069866+0j)\n",
      "index-> 7 3 element-> (0.16444369990997243+0j)\n",
      "index-> 7 4 element-> (0.10243524037160236+0j)\n",
      "index-> 7 7 element-> (0.173470417471412+0j)\n"
     ]
    }
   ],
   "source": [
    "for i in range(len(rho)):\n",
    "    for j in range(len(rho)):\n",
    "        if rho[i,j]!=0:\n",
    "            print(\"index->\",i,j,\"element->\",rho[i,j])"
   ]
  },
  {
   "cell_type": "code",
   "execution_count": 87,
   "metadata": {},
   "outputs": [
    {
     "data": {
      "image/png": "[encoded data removed]",
      "text/plain": [
       "<Figure size 576x396 with 2 Axes>"
      ]
     },
     "metadata": {},
     "output_type": "display_data"
    }
   ],
   "source": [
    "import seaborn\n",
    "seaborn.heatmap(np.real(rho),cmap=\"YlGnBu\")\n",
    "plt.title(\"Elements of the final density matrix\")\n",
    "plt.show()"
   ]
  },
  {
   "cell_type": "code",
   "execution_count": 43,
   "metadata": {},
   "outputs": [],
   "source": [
    "# for testing purposes the below cells are used"
   ]
  },
  {
   "cell_type": "code",
   "execution_count": 41,
   "metadata": {},
   "outputs": [
    {
     "data": {
      "text/plain": [
       "tensor([[0.44444444+0.j, 0.        +0.j, 0.        +0.j, 0.        +0.j],\n",
       "        [0.        +0.j, 0.22222222+0.j, 0.        +0.j, 0.        +0.j],\n",
       "        [0.        +0.j, 0.        +0.j, 0.22222222+0.j, 0.        +0.j],\n",
       "        [0.        +0.j, 0.        +0.j, 0.        +0.j, 0.11111111+0.j]], requires_grad=True)"
      ]
     },
     "execution_count": 41,
     "metadata": {},
     "output_type": "execute_result"
    }
   ],
   "source": [
    "dev = qml.device('default.mixed', wires=2)\n",
    "\n",
    "\n",
    "@qml.qnode(dev)\n",
    "def circuit(p):\n",
    "    qml.BasisState([1,1], wires=[0,1])\n",
    "    #qml.Hadamard(wires=0)\n",
    "    #qml.CNOT(wires=[0, 1])\n",
    "    qml.DepolarizingChannel(p, wires=0)\n",
    "    qml.DepolarizingChannel(p, wires=1)\n",
    "    return qml.state()#qml.expval(qml.PauliZ(0) @ qml.PauliZ(1))\n",
    "\n",
    "\n",
    "circuit(1)"
   ]
  },
  {
   "cell_type": "code",
   "execution_count": 44,
   "metadata": {},
   "outputs": [],
   "source": [
    "red=qi.partial_trace(circuit(1),[1])"
   ]
  },
  {
   "cell_type": "code",
   "execution_count": 45,
   "metadata": {},
   "outputs": [
    {
     "data": {
      "text/plain": [
       "tensor([[0.66666667+0.j, 0.        +0.j],\n",
       "        [0.        +0.j, 0.33333333+0.j]], requires_grad=True)"
      ]
     },
     "execution_count": 45,
     "metadata": {},
     "output_type": "execute_result"
    }
   ],
   "source": [
    "red_den=np.array(red)\n",
    "red_den"
   ]
  },
  {
   "cell_type": "code",
   "execution_count": 52,
   "metadata": {},
   "outputs": [
    {
     "data": {
      "text/plain": [
       "<matplotlib.colorbar.Colorbar at 0x269d7d69d30>"
      ]
     },
     "execution_count": 52,
     "metadata": {},
     "output_type": "execute_result"
    },
    {
     "data": {
      "image/png": "[encoded data removed]",
      "text/plain": [
       "<Figure size 1152x288 with 6 Axes>"
      ]
     },
     "metadata": {},
     "output_type": "display_data"
    }
   ],
   "source": [
    "import seaborn\n",
    "fig, axes = plt.subplots(ncols=3, figsize=(16, 4))\n",
    "\n",
    "ax1, ax2 ,ax3 = axes\n",
    "\n",
    "im1 = ax1.matshow(np.real(circuit(0)),cmap=\"YlGnBu\")\n",
    "ax1.set_title(\"Pure state\", y=1.13)\n",
    "\n",
    "im2 = ax2.matshow(np.real(circuit(1)),cmap=\"YlGnBu\")\n",
    "ax2.set_title(\"with max noise p=1\", y=1.13)\n",
    "\n",
    "im3 = ax3.matshow(np.real(red_den),cmap=\"YlGnBu\")\n",
    "ax3.set_title(\"Reduced density matrix of max noise state\", y=1.13)\n",
    "\n",
    "\n",
    "fig.colorbar(im1, ax=ax1)\n",
    "fig.colorbar(im2, ax=ax2)\n",
    "fig.colorbar(im3, ax=ax3)"
   ]
  },
  {
   "cell_type": "code",
   "execution_count": null,
   "metadata": {},
   "outputs": [],
   "source": []
  }
 ],
 "metadata": {
  "kernelspec": {
   "display_name": "Python 3",
   "language": "python",
   "name": "python3"
  },
  "language_info": {
   "codemirror_mode": {
    "name": "ipython",
    "version": 3
   },
   "file_extension": ".py",
   "mimetype": "text/x-python",
   "name": "python",
   "nbconvert_exporter": "python",
   "pygments_lexer": "ipython3",
   "version": "3.8.5"
  }
 },
 "nbformat": 4,
 "nbformat_minor": 4
}
