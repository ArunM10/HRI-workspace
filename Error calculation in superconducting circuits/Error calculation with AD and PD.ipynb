{
 "cells": [
  {
   "cell_type": "code",
   "execution_count": 1,
   "metadata": {},
   "outputs": [],
   "source": [
    "from pennylane import numpy as np\n",
    "import pennylane as qml\n",
    "from matplotlib import pyplot as plt"
   ]
  },
  {
   "cell_type": "code",
   "execution_count": 2,
   "metadata": {},
   "outputs": [
    {
     "data": {
      "text/plain": [
       "'\\nHere we are gonna use Amplitude damping and Phase damping noise\\n'"
      ]
     },
     "execution_count": 2,
     "metadata": {},
     "output_type": "execute_result"
    }
   ],
   "source": [
    "'''\n",
    "Here we are gonna use Amplitude damping and Phase damping noise\n",
    "'''"
   ]
  },
  {
   "cell_type": "code",
   "execution_count": 3,
   "metadata": {},
   "outputs": [],
   "source": [
    "I = np.eye(2)\n",
    "X = np.array([[0, 1], [1, 0]])\n",
    "Z = np.array([[1, 0], [0, -1]])\n",
    "Y = np.array([[0,-1j],[1j, 0]])"
   ]
  },
  {
   "cell_type": "code",
   "execution_count": 4,
   "metadata": {},
   "outputs": [
    {
     "data": {
      "text/plain": [
       "'\\nT1 = single-qubit (energy) relaxation time and \\nT2 = dephasing time\\n'"
      ]
     },
     "execution_count": 4,
     "metadata": {},
     "output_type": "execute_result"
    }
   ],
   "source": [
    "'''\n",
    "T1 = single-qubit (energy) relaxation time and \n",
    "T2 = dephasing time\n",
    "'''"
   ]
  },
  {
   "cell_type": "code",
   "execution_count": 5,
   "metadata": {},
   "outputs": [],
   "source": [
    "t=np.linspace(1,200,200)*10**(-9)#60*10**(-9)\n",
    "T1=400*10**(-9)\n",
    "T2=200*10**(-9)\n",
    "steps=4"
   ]
  },
  {
   "cell_type": "code",
   "execution_count": 6,
   "metadata": {},
   "outputs": [],
   "source": [
    "#P_AD=0\n",
    "#P_PD=0\n",
    "def P(t,T1,T2):\n",
    "    \n",
    "    P_AD=1-np.exp(-t/T1)\n",
    "    P_PD=1-np.exp(-t*2/T2)*np.exp(t/T1)\n",
    "    \n",
    "    return P_AD,P_PD"
   ]
  },
  {
   "cell_type": "code",
   "execution_count": 7,
   "metadata": {},
   "outputs": [],
   "source": [
    "def ED(t,T1,T2):\n",
    "    P_AD,P_PD=P(t,T1,T2)\n",
    "    gamma=P_AD\n",
    "    Lambda=(1-P_AD)*P_PD\n",
    "    \n",
    "    ED1=((1+np.sqrt(1-gamma-Lambda))/2)*I+((1-np.sqrt(1-gamma-Lambda))/2)*Z\n",
    "    ED2=np.sqrt(gamma)/2*X+1j*np.sqrt(gamma)/2*Y\n",
    "    ED3=np.sqrt(Lambda)/2*I-np.sqrt(Lambda)/2*Z\n",
    "    \n",
    "    return ED1,ED2,ED3"
   ]
  },
  {
   "cell_type": "code",
   "execution_count": 8,
   "metadata": {},
   "outputs": [
    {
     "data": {
      "text/plain": [
       "tensor([[0.        , 0.        ],\n",
       "        [0.        , 0.00193045]], requires_grad=True)"
      ]
     },
     "execution_count": 8,
     "metadata": {},
     "output_type": "execute_result"
    }
   ],
   "source": [
    "a,b,c=ED(0.1,0.008,0.005)\n",
    "c"
   ]
  },
  {
   "cell_type": "code",
   "execution_count": 9,
   "metadata": {},
   "outputs": [],
   "source": [
    "dev=qml.device(\"default.mixed\",wires=3)"
   ]
  },
  {
   "cell_type": "code",
   "execution_count": 10,
   "metadata": {},
   "outputs": [],
   "source": [
    "@qml.qnode(dev)\n",
    "def density_matrix(step):\n",
    "   \n",
    "    if step==1:\n",
    "        qml.Hadamard(wires=0)\n",
    "        return qml.state()\n",
    "    \n",
    "    if step==2:\n",
    "        qml.Hadamard(wires=0)\n",
    "        qml.CNOT(wires=[0,1])\n",
    "        return qml.state()\n",
    "    \n",
    "    if step==3:\n",
    "        qml.Hadamard(wires=0)\n",
    "        qml.CNOT(wires=[0,1])\n",
    "        qml.CNOT(wires=[0,2])\n",
    "        return qml.state()\n",
    "    \n",
    "    \n",
    "    if step==4:\n",
    "        qml.Hadamard(wires=0)\n",
    "        qml.CNOT(wires=[0,1])\n",
    "        qml.CNOT(wires=[0,2])\n",
    "        qml.Hadamard(wires=0)\n",
    "        return qml.state()"
   ]
  },
  {
   "cell_type": "code",
   "execution_count": 11,
   "metadata": {
    "scrolled": false
   },
   "outputs": [
    {
     "data": {
      "text/plain": [
       "tensor([[0.5+0.j, 0. +0.j, 0. +0.j, 0. +0.j, 0.5+0.j, 0. +0.j, 0. +0.j,\n",
       "         0. +0.j],\n",
       "        [0. +0.j, 0. +0.j, 0. +0.j, 0. +0.j, 0. +0.j, 0. +0.j, 0. +0.j,\n",
       "         0. +0.j],\n",
       "        [0. +0.j, 0. +0.j, 0. +0.j, 0. +0.j, 0. +0.j, 0. +0.j, 0. +0.j,\n",
       "         0. +0.j],\n",
       "        [0. +0.j, 0. +0.j, 0. +0.j, 0. +0.j, 0. +0.j, 0. +0.j, 0. +0.j,\n",
       "         0. +0.j],\n",
       "        [0.5+0.j, 0. +0.j, 0. +0.j, 0. +0.j, 0.5+0.j, 0. +0.j, 0. +0.j,\n",
       "         0. +0.j],\n",
       "        [0. +0.j, 0. +0.j, 0. +0.j, 0. +0.j, 0. +0.j, 0. +0.j, 0. +0.j,\n",
       "         0. +0.j],\n",
       "        [0. +0.j, 0. +0.j, 0. +0.j, 0. +0.j, 0. +0.j, 0. +0.j, 0. +0.j,\n",
       "         0. +0.j],\n",
       "        [0. +0.j, 0. +0.j, 0. +0.j, 0. +0.j, 0. +0.j, 0. +0.j, 0. +0.j,\n",
       "         0. +0.j]], requires_grad=False)"
      ]
     },
     "execution_count": 11,
     "metadata": {},
     "output_type": "execute_result"
    }
   ],
   "source": [
    "density_matrix(1)"
   ]
  },
  {
   "cell_type": "code",
   "execution_count": 12,
   "metadata": {},
   "outputs": [],
   "source": [
    "def Decoherent_state_1( t,  T1,  T2,  steps):\n",
    "    \n",
    "    #rho=ρ_noise\n",
    "    rho=density_matrix(1)\n",
    "    \n",
    "    ED1,ED2,ED3=ED(t,T1,T2)\n",
    "    \n",
    "    Kraus_on_1_ED1=np.kron(np.kron(ED1,I),I)\n",
    "    Kraus_on_1_ED2=np.kron(np.kron(ED2,I),I)\n",
    "    Kraus_on_1_ED3=np.kron(np.kron(ED3,I),I)\n",
    "    \n",
    "    epsilon_D_rho_1=np.dot(np.dot(Kraus_on_1_ED1,rho),np.transpose(np.conj(Kraus_on_1_ED1)))+\\\n",
    "                    np.dot(np.dot(Kraus_on_1_ED2,rho),np.transpose(np.conj(Kraus_on_1_ED2)))+\\\n",
    "                    np.dot(np.dot(Kraus_on_1_ED3,rho),np.transpose(np.conj(Kraus_on_1_ED3)))\n",
    "    \n",
    "    # for rho1 only hadamard is applied to 1st qubit thus noise should also be applied to 1st but can be applied to qubits\n",
    "    # in both the cases the result will be the same\n",
    "    '''\n",
    "    Kraus_on_2_ED1=np.kron(np.kron(I,ED1),I)\n",
    "    Kraus_on_2_ED2=np.kron(np.kron(I,ED2),I)\n",
    "    Kraus_on_2_ED3=np.kron(np.kron(I,ED3),I)\n",
    "    \n",
    "    epsilon_D_rho_2=np.dot(np.dot(Kraus_on_2_ED1,epsilon_D_rho_1),np.transpose(np.conj(Kraus_on_2_ED1)))+\\\n",
    "                    np.dot(np.dot(Kraus_on_2_ED2,epsilon_D_rho_1),np.transpose(np.conj(Kraus_on_2_ED2)))+\\\n",
    "                    np.dot(np.dot(Kraus_on_2_ED3,epsilon_D_rho_1),np.transpose(np.conj(Kraus_on_2_ED3)))\n",
    "    \n",
    "    Kraus_on_3_ED1=np.kron(np.kron(I,I),ED1)\n",
    "    Kraus_on_3_ED2=np.kron(np.kron(I,I),ED2)\n",
    "    Kraus_on_3_ED3=np.kron(np.kron(I,I),ED3)\n",
    "    \n",
    "    epsilon_D_rho_3=np.dot(np.dot(Kraus_on_3_ED1,epsilon_D_rho_2),np.transpose(np.conj(Kraus_on_3_ED1)))+\\\n",
    "                    np.dot(np.dot(Kraus_on_3_ED2,epsilon_D_rho_2),np.transpose(np.conj(Kraus_on_3_ED2)))+\\\n",
    "                    np.dot(np.dot(Kraus_on_3_ED3,epsilon_D_rho_2),np.transpose(np.conj(Kraus_on_3_ED3)))\n",
    "    \n",
    "    return epsilon_D_rho_3\n",
    "    '''\n",
    "    return epsilon_D_rho_1\n",
    "    "
   ]
  },
  {
   "cell_type": "code",
   "execution_count": 13,
   "metadata": {},
   "outputs": [
    {
     "data": {
      "text/plain": [
       "200"
      ]
     },
     "execution_count": 13,
     "metadata": {},
     "output_type": "execute_result"
    }
   ],
   "source": [
    "ρ_noise=[]\n",
    "ρ_noise=[Decoherent_state_1(time,T1,T2,1) for time in t] \n",
    "len(ρ_noise)"
   ]
  },
  {
   "cell_type": "code",
   "execution_count": 14,
   "metadata": {},
   "outputs": [],
   "source": [
    "# Function to find the fidelity between two density matrix\n",
    "def Fidelity(rho1,rho2):\n",
    "    if rho1.shape!=rho2.shape:\n",
    "        raise ValueError(\"Dimension of both matrices must be same\")\n",
    "    return ((np.trace(np.dot(np.transpose(np.conj(rho1)),rho2))))  # as one of them is pure (entangled) state"
   ]
  },
  {
   "cell_type": "code",
   "execution_count": 15,
   "metadata": {},
   "outputs": [
    {
     "data": {
      "text/plain": [
       "200"
      ]
     },
     "execution_count": 15,
     "metadata": {},
     "output_type": "execute_result"
    }
   ],
   "source": [
    "rho2=density_matrix(1)  # this is the pure density matrix \n",
    "F=[]\n",
    "for rho1 in ρ_noise:\n",
    "    F.append(Fidelity(rho1,rho2))\n",
    "    \n",
    "len(F)"
   ]
  },
  {
   "cell_type": "code",
   "execution_count": 16,
   "metadata": {},
   "outputs": [
    {
     "name": "stderr",
     "output_type": "stream",
     "text": [
      "C:\\Users\\Arunava\\anaconda3\\lib\\site-packages\\matplotlib\\cbook\\__init__.py:1289: ComplexWarning: Casting complex values to real discards the imaginary part\n",
      "  return np.asarray(x, float)\n"
     ]
    },
    {
     "data": {
      "image/png": "[encoded data removed]",
      "text/plain": [
       "<Figure size 576x396 with 1 Axes>"
      ]
     },
     "metadata": {},
     "output_type": "display_data"
    }
   ],
   "source": [
    "plt.style.use(\"seaborn\")\n",
    "plt.plot(t,F,\"black\",label=\"Fidelity\")\n",
    "plt.ylabel(\"Fidelity\", fontsize=18)\n",
    "plt.xlabel(\"Time steps\", fontsize=18)\n",
    "plt.tick_params(axis=\"both\", which=\"major\", labelsize=16)   # helps to increase the size of the values in X and Y axis\n",
    "plt.tick_params(axis=\"both\", which=\"minor\", labelsize=16)\n",
    "plt.title(\"Fidelity after 1st Hadamard gate in presence of noise\", fontsize=18)\n",
    "plt.legend()\n",
    "plt.show()"
   ]
  },
  {
   "cell_type": "code",
   "execution_count": 17,
   "metadata": {},
   "outputs": [],
   "source": [
    "cnot=np.array([[1,0,0,0],[0,1,0,0],[0,0,0,1],[0,0,1,0]])"
   ]
  },
  {
   "cell_type": "code",
   "execution_count": 18,
   "metadata": {},
   "outputs": [],
   "source": [
    "def Decoherent_state_2( t,  T1,  T2,  density_matrix):\n",
    "    \n",
    "    #rho=ρ_noise\n",
    "    rho=density_matrix\n",
    "    \n",
    "    rho=np.dot(np.dot(np.kron(cnot,I),rho),np.kron(cnot,I)) # applying 1st CNOT to qubits=[0,1]\n",
    "    \n",
    "    ED1,ED2,ED3=ED(t,T1,T2)\n",
    "    \n",
    "    Kraus_on_1_ED1=np.kron(np.kron(ED1,I),I)\n",
    "    Kraus_on_1_ED2=np.kron(np.kron(ED2,I),I)\n",
    "    Kraus_on_1_ED3=np.kron(np.kron(ED3,I),I)\n",
    "    \n",
    "    epsilon_D_rho_1=np.dot(np.dot(Kraus_on_1_ED1,rho),np.transpose(np.conj(Kraus_on_1_ED1)))+\\\n",
    "                    np.dot(np.dot(Kraus_on_1_ED2,rho),np.transpose(np.conj(Kraus_on_1_ED2)))+\\\n",
    "                    np.dot(np.dot(Kraus_on_1_ED3,rho),np.transpose(np.conj(Kraus_on_1_ED3)))\n",
    "    \n",
    "    # for rho1 only hadamard is applied to 1st qubit thus noise should also be applied to 1st but can be applied to qubits\n",
    "    # in both the cases the result will be the same\n",
    "    \n",
    "    \n",
    "    #epsilon_D_rho_1=np.dot(np.dot(np.kron(cnot,I),epsilon_D_rho_1),np.kron(cnot,I)) # applying 1st CNOT to qubits=[0,1]\n",
    "    \n",
    "    Kraus_on_2_ED1=np.kron(np.kron(I,ED1),I)\n",
    "    Kraus_on_2_ED2=np.kron(np.kron(I,ED2),I)\n",
    "    Kraus_on_2_ED3=np.kron(np.kron(I,ED3),I)\n",
    "    \n",
    "    epsilon_D_rho_2=np.dot(np.dot(Kraus_on_2_ED1,epsilon_D_rho_1),np.transpose(np.conj(Kraus_on_2_ED1)))+\\\n",
    "                    np.dot(np.dot(Kraus_on_2_ED2,epsilon_D_rho_1),np.transpose(np.conj(Kraus_on_2_ED2)))+\\\n",
    "                    np.dot(np.dot(Kraus_on_2_ED3,epsilon_D_rho_1),np.transpose(np.conj(Kraus_on_2_ED3)))\n",
    "    '''\n",
    "    Kraus_on_3_ED1=np.kron(np.kron(I,I),ED1)\n",
    "    Kraus_on_3_ED2=np.kron(np.kron(I,I),ED2)\n",
    "    Kraus_on_3_ED3=np.kron(np.kron(I,I),ED3)\n",
    "    \n",
    "    epsilon_D_rho_3=np.dot(np.dot(Kraus_on_3_ED1,epsilon_D_rho_2),np.transpose(np.conj(Kraus_on_3_ED1)))+\\\n",
    "                    np.dot(np.dot(Kraus_on_3_ED2,epsilon_D_rho_2),np.transpose(np.conj(Kraus_on_3_ED2)))+\\\n",
    "                    np.dot(np.dot(Kraus_on_3_ED3,epsilon_D_rho_2),np.transpose(np.conj(Kraus_on_3_ED3)))\n",
    "    \n",
    "    return epsilon_D_rho_3\n",
    "    '''\n",
    "    return epsilon_D_rho_2\n",
    "    "
   ]
  },
  {
   "cell_type": "code",
   "execution_count": 19,
   "metadata": {},
   "outputs": [
    {
     "data": {
      "text/plain": [
       "200"
      ]
     },
     "execution_count": 19,
     "metadata": {},
     "output_type": "execute_result"
    }
   ],
   "source": [
    "ρ_noise2=[]\n",
    "ρ_noise2=[Decoherent_state_2(time,T1,T2,density_matrix) for time,density_matrix in zip(t,ρ_noise)] \n",
    "len(ρ_noise2)"
   ]
  },
  {
   "cell_type": "code",
   "execution_count": 20,
   "metadata": {},
   "outputs": [],
   "source": [
    "rho2=density_matrix(2)  # this is the pure density matrix \n",
    "F2=[]\n",
    "for rho1 in ρ_noise2:\n",
    "    F2.append(Fidelity(rho1,rho2))\n",
    "    "
   ]
  },
  {
   "cell_type": "code",
   "execution_count": 21,
   "metadata": {},
   "outputs": [
    {
     "name": "stderr",
     "output_type": "stream",
     "text": [
      "C:\\Users\\Arunava\\anaconda3\\lib\\site-packages\\matplotlib\\cbook\\__init__.py:1289: ComplexWarning: Casting complex values to real discards the imaginary part\n",
      "  return np.asarray(x, float)\n"
     ]
    },
    {
     "data": {
      "image/png": "[encoded data removed]",
      "text/plain": [
       "<Figure size 576x396 with 1 Axes>"
      ]
     },
     "metadata": {},
     "output_type": "display_data"
    }
   ],
   "source": [
    "plt.style.use(\"seaborn\")\n",
    "plt.plot(t,F2,\"black\",label=\"Fidelity\")\n",
    "plt.ylabel(\"Fidelity\", fontsize=18)\n",
    "plt.xlabel(\"Time steps\", fontsize=18)\n",
    "plt.tick_params(axis=\"both\", which=\"major\", labelsize=16)   # helps to increase the size of the values in X and Y axis\n",
    "plt.tick_params(axis=\"both\", which=\"minor\", labelsize=16)\n",
    "plt.title(\"Fidelity after Hadamard+CNOT gate in presence of noise\", fontsize=18)\n",
    "plt.legend()\n",
    "plt.show()"
   ]
  },
  {
   "cell_type": "code",
   "execution_count": 22,
   "metadata": {},
   "outputs": [
    {
     "data": {
      "text/plain": [
       "tensor([[1, 0, 0, 0, 0, 0, 0, 0],\n",
       "        [0, 1, 0, 0, 0, 0, 0, 0],\n",
       "        [0, 0, 1, 0, 0, 0, 0, 0],\n",
       "        [0, 0, 0, 1, 0, 0, 0, 0],\n",
       "        [0, 0, 0, 0, 0, 1, 0, 0],\n",
       "        [0, 0, 0, 0, 1, 0, 0, 0],\n",
       "        [0, 0, 0, 0, 0, 0, 0, 1],\n",
       "        [0, 0, 0, 0, 0, 0, 1, 0]], requires_grad=True)"
      ]
     },
     "execution_count": 22,
     "metadata": {},
     "output_type": "execute_result"
    }
   ],
   "source": [
    "cnot_0_2=np.array([[1,0,0,0,0,0,0,0],[0,1,0,0,0,0,0,0],[0,0,1,0,0,0,0,0],[0,0,0,1,0,0,0,0],[0,0,0,0,0,1,0,0],[0,0,0,0,1,0,0,0],\n",
    "                  [0,0,0,0,0,0,0,1],[0,0,0,0,0,0,1,0]])\n",
    "cnot_0_2"
   ]
  },
  {
   "cell_type": "code",
   "execution_count": 23,
   "metadata": {},
   "outputs": [],
   "source": [
    "def Decoherent_state_3( t,  T1,  T2,  density_matrix):\n",
    "    \n",
    "    #rho=ρ_noise\n",
    "    rho=density_matrix\n",
    "    \n",
    "    rho=np.dot(np.dot(cnot_0_2,rho),cnot_0_2) # applying 1st CNOT to qubits=[0,1]\n",
    "\n",
    "    ED1,ED2,ED3=ED(t,T1,T2)\n",
    "    \n",
    "    Kraus_on_1_ED1=np.kron(np.kron(ED1,I),I)\n",
    "    Kraus_on_1_ED2=np.kron(np.kron(ED2,I),I)\n",
    "    Kraus_on_1_ED3=np.kron(np.kron(ED3,I),I)\n",
    "    \n",
    "    epsilon_D_rho_1=np.dot(np.dot(Kraus_on_1_ED1,rho),np.transpose(np.conj(Kraus_on_1_ED1)))+\\\n",
    "                    np.dot(np.dot(Kraus_on_1_ED2,rho),np.transpose(np.conj(Kraus_on_1_ED2)))+\\\n",
    "                    np.dot(np.dot(Kraus_on_1_ED3,rho),np.transpose(np.conj(Kraus_on_1_ED3)))\n",
    "    \n",
    "    #epsilon_D_rho_1=np.dot(np.dot(np.kron(cnot,I),epsilon_D_rho_1),np.kron(cnot,I)) # applying 1st CNOT to qubits=[0,1]\n",
    "    \n",
    "    Kraus_on_2_ED1=np.kron(np.kron(I,ED1),I)\n",
    "    Kraus_on_2_ED2=np.kron(np.kron(I,ED2),I)\n",
    "    Kraus_on_2_ED3=np.kron(np.kron(I,ED3),I)\n",
    "    \n",
    "    epsilon_D_rho_2=np.dot(np.dot(Kraus_on_2_ED1,epsilon_D_rho_1),np.transpose(np.conj(Kraus_on_2_ED1)))+\\\n",
    "                    np.dot(np.dot(Kraus_on_2_ED2,epsilon_D_rho_1),np.transpose(np.conj(Kraus_on_2_ED2)))+\\\n",
    "                    np.dot(np.dot(Kraus_on_2_ED3,epsilon_D_rho_1),np.transpose(np.conj(Kraus_on_2_ED3)))\n",
    "    \n",
    "    Kraus_on_3_ED1=np.kron(np.kron(I,I),ED1)\n",
    "    Kraus_on_3_ED2=np.kron(np.kron(I,I),ED2)\n",
    "    Kraus_on_3_ED3=np.kron(np.kron(I,I),ED3)\n",
    "    \n",
    "    epsilon_D_rho_3=np.dot(np.dot(Kraus_on_3_ED1,epsilon_D_rho_2),np.transpose(np.conj(Kraus_on_3_ED1)))+\\\n",
    "                    np.dot(np.dot(Kraus_on_3_ED2,epsilon_D_rho_2),np.transpose(np.conj(Kraus_on_3_ED2)))+\\\n",
    "                    np.dot(np.dot(Kraus_on_3_ED3,epsilon_D_rho_2),np.transpose(np.conj(Kraus_on_3_ED3)))\n",
    "    \n",
    "    return epsilon_D_rho_3\n",
    "\n",
    "    "
   ]
  },
  {
   "cell_type": "code",
   "execution_count": 24,
   "metadata": {},
   "outputs": [
    {
     "data": {
      "text/plain": [
       "200"
      ]
     },
     "execution_count": 24,
     "metadata": {},
     "output_type": "execute_result"
    }
   ],
   "source": [
    "ρ_noise3=[]\n",
    "ρ_noise3=[Decoherent_state_3(time,T1,T2,density_matrix) for time,density_matrix in zip(t,ρ_noise2)] \n",
    "len(ρ_noise3)"
   ]
  },
  {
   "cell_type": "code",
   "execution_count": 25,
   "metadata": {},
   "outputs": [],
   "source": [
    "rho2=density_matrix(3)  # this is the pure density matrix \n",
    "F3=[]\n",
    "for rho1 in ρ_noise3:\n",
    "    F3.append(Fidelity(rho1,rho2))\n",
    "    "
   ]
  },
  {
   "cell_type": "code",
   "execution_count": 26,
   "metadata": {},
   "outputs": [
    {
     "name": "stderr",
     "output_type": "stream",
     "text": [
      "C:\\Users\\Arunava\\anaconda3\\lib\\site-packages\\matplotlib\\cbook\\__init__.py:1289: ComplexWarning: Casting complex values to real discards the imaginary part\n",
      "  return np.asarray(x, float)\n"
     ]
    },
    {
     "data": {
      "image/png": "[encoded data removed]",
      "text/plain": [
       "<Figure size 576x396 with 1 Axes>"
      ]
     },
     "metadata": {},
     "output_type": "display_data"
    }
   ],
   "source": [
    "plt.style.use(\"seaborn\")\n",
    "plt.plot(t,F3,\"black\",label=\"Fidelity\")\n",
    "plt.ylabel(\"Fidelity\", fontsize=18)\n",
    "plt.xlabel(\"Time steps\", fontsize=18)\n",
    "plt.tick_params(axis=\"both\", which=\"major\", labelsize=16)   # helps to increase the size of the values in X and Y axis\n",
    "plt.tick_params(axis=\"both\", which=\"minor\", labelsize=16)\n",
    "plt.title(\"Fidelity after Hadamard+CNOT+2nd CNOT gate in presence of noise\", fontsize=18)\n",
    "plt.legend()\n",
    "plt.show()"
   ]
  },
  {
   "cell_type": "code",
   "execution_count": 27,
   "metadata": {},
   "outputs": [],
   "source": [
    "H=1/np.sqrt(2)*np.array([[1,1],[1,-1]])"
   ]
  },
  {
   "cell_type": "code",
   "execution_count": 28,
   "metadata": {},
   "outputs": [],
   "source": [
    "def Decoherent_state_4( t,  T1,  T2, density_matrix):\n",
    "    \n",
    "    #rho=ρ_noise\n",
    "    rho=density_matrix\n",
    "    \n",
    "    rho=np.dot(np.dot(np.kron(np.kron(H,I),I),rho),np.transpose(np.conj(np.kron(np.kron(H,I),I))))\n",
    "    \n",
    "    ED1,ED2,ED3=ED(t,T1,T2)\n",
    "    \n",
    "    Kraus_on_1_ED1=np.kron(np.kron(ED1,I),I)\n",
    "    Kraus_on_1_ED2=np.kron(np.kron(ED2,I),I)\n",
    "    Kraus_on_1_ED3=np.kron(np.kron(ED3,I),I)\n",
    "    \n",
    "    epsilon_D_rho_1=np.dot(np.dot(Kraus_on_1_ED1,rho),np.transpose(np.conj(Kraus_on_1_ED1)))+\\\n",
    "                    np.dot(np.dot(Kraus_on_1_ED2,rho),np.transpose(np.conj(Kraus_on_1_ED2)))+\\\n",
    "                    np.dot(np.dot(Kraus_on_1_ED3,rho),np.transpose(np.conj(Kraus_on_1_ED3)))\n",
    "    \n",
    "    # for rho1 only hadamard is applied to 1st qubit thus noise should also be applied to 1st but can be applied to qubits\n",
    "    # in both the cases the result will be the same\n",
    "    \n",
    "    Kraus_on_2_ED1=np.kron(np.kron(I,ED1),I)\n",
    "    Kraus_on_2_ED2=np.kron(np.kron(I,ED2),I)\n",
    "    Kraus_on_2_ED3=np.kron(np.kron(I,ED3),I)\n",
    "    \n",
    "    epsilon_D_rho_2=np.dot(np.dot(Kraus_on_2_ED1,epsilon_D_rho_1),np.transpose(np.conj(Kraus_on_2_ED1)))+\\\n",
    "                    np.dot(np.dot(Kraus_on_2_ED2,epsilon_D_rho_1),np.transpose(np.conj(Kraus_on_2_ED2)))+\\\n",
    "                    np.dot(np.dot(Kraus_on_2_ED3,epsilon_D_rho_1),np.transpose(np.conj(Kraus_on_2_ED3)))\n",
    "    \n",
    "    Kraus_on_3_ED1=np.kron(np.kron(I,I),ED1)\n",
    "    Kraus_on_3_ED2=np.kron(np.kron(I,I),ED2)\n",
    "    Kraus_on_3_ED3=np.kron(np.kron(I,I),ED3)\n",
    "    \n",
    "    epsilon_D_rho_3=np.dot(np.dot(Kraus_on_3_ED1,epsilon_D_rho_2),np.transpose(np.conj(Kraus_on_3_ED1)))+\\\n",
    "                    np.dot(np.dot(Kraus_on_3_ED2,epsilon_D_rho_2),np.transpose(np.conj(Kraus_on_3_ED2)))+\\\n",
    "                    np.dot(np.dot(Kraus_on_3_ED3,epsilon_D_rho_2),np.transpose(np.conj(Kraus_on_3_ED3)))\n",
    "    \n",
    "    return epsilon_D_rho_3"
   ]
  },
  {
   "cell_type": "code",
   "execution_count": 29,
   "metadata": {},
   "outputs": [
    {
     "data": {
      "text/plain": [
       "200"
      ]
     },
     "execution_count": 29,
     "metadata": {},
     "output_type": "execute_result"
    }
   ],
   "source": [
    "ρ_noise4=[]\n",
    "ρ_noise4=[Decoherent_state_4(time,T1,T2,density_matrix) for time,density_matrix in zip(t,ρ_noise3)] \n",
    "len(ρ_noise4)"
   ]
  },
  {
   "cell_type": "code",
   "execution_count": 30,
   "metadata": {},
   "outputs": [],
   "source": [
    "rho2=density_matrix(4)  # this is the pure density matrix \n",
    "F4=[]\n",
    "for rho1 in ρ_noise4:\n",
    "    F4.append(Fidelity(rho1,rho2))\n",
    "    "
   ]
  },
  {
   "cell_type": "code",
   "execution_count": 31,
   "metadata": {},
   "outputs": [
    {
     "name": "stderr",
     "output_type": "stream",
     "text": [
      "C:\\Users\\Arunava\\anaconda3\\lib\\site-packages\\matplotlib\\cbook\\__init__.py:1289: ComplexWarning: Casting complex values to real discards the imaginary part\n",
      "  return np.asarray(x, float)\n"
     ]
    },
    {
     "data": {
      "image/png": "[encoded data removed]",
      "text/plain": [
       "<Figure size 576x396 with 1 Axes>"
      ]
     },
     "metadata": {},
     "output_type": "display_data"
    }
   ],
   "source": [
    "plt.style.use(\"seaborn\")\n",
    "plt.plot(t,F4,\"black\",label=\"Fidelity\")\n",
    "plt.ylabel(\"Fidelity\", fontsize=18)\n",
    "plt.xlabel(\"Time steps\", fontsize=18)\n",
    "plt.tick_params(axis=\"both\", which=\"major\", labelsize=16)   # helps to increase the size of the values in X and Y axis\n",
    "plt.tick_params(axis=\"both\", which=\"minor\", labelsize=16)\n",
    "plt.title(\"Fidelity after Hadamard+CNOT+2nd CNOT+last Hadamard gate in presence of noise\", fontsize=18)\n",
    "plt.legend()\n",
    "plt.show()"
   ]
  },
  {
   "cell_type": "code",
   "execution_count": 32,
   "metadata": {},
   "outputs": [],
   "source": [
    "from qiskit import QuantumCircuit\n",
    "import qiskit.quantum_info as qi"
   ]
  },
  {
   "cell_type": "code",
   "execution_count": 33,
   "metadata": {},
   "outputs": [
    {
     "name": "stdout",
     "output_type": "stream",
     "text": [
      "25 -> (0.5531134810877183+0j)\n"
     ]
    }
   ],
   "source": [
    "for index,fidelity in enumerate(F4):\n",
    "    if fidelity>0.545 and fidelity<0.555:\n",
    "        print(index,\"->\",fidelity)"
   ]
  },
  {
   "cell_type": "code",
   "execution_count": 34,
   "metadata": {},
   "outputs": [
    {
     "data": {
      "text/plain": [
       "(0.5531134810877183+0j)"
      ]
     },
     "execution_count": 34,
     "metadata": {},
     "output_type": "execute_result"
    }
   ],
   "source": [
    "Fidelity(ρ_noise4[25],density_matrix(4))"
   ]
  },
  {
   "cell_type": "code",
   "execution_count": 35,
   "metadata": {},
   "outputs": [],
   "source": [
    "rho_test=ρ_noise4[25]"
   ]
  },
  {
   "cell_type": "code",
   "execution_count": 36,
   "metadata": {},
   "outputs": [],
   "source": [
    "rho_1 = qi.partial_trace(rho_test,[1,0])"
   ]
  },
  {
   "cell_type": "code",
   "execution_count": 37,
   "metadata": {},
   "outputs": [
    {
     "name": "stdout",
     "output_type": "stream",
     "text": [
      "DensityMatrix([[0.53146627+0.j, 0.07778404+0.j],\n",
      "               [0.07778404+0.j, 0.46853373+0.j]],\n",
      "              dims=(2,))\n"
     ]
    }
   ],
   "source": [
    "rho_1"
   ]
  },
  {
   "cell_type": "code",
   "execution_count": 39,
   "metadata": {},
   "outputs": [
    {
     "data": {
      "text/plain": [
       "'\\nIn the previous step: Rho = ρ = 0.53146627*|0><0| +  0.07778404*|1><1| + 0.07778404*|0><1| + 0.46853373*|1><0|\\n\\nThus success probability with noise become 0.49 if the measurement output is |1>\\n\\n'"
      ]
     },
     "execution_count": 39,
     "metadata": {},
     "output_type": "execute_result"
    }
   ],
   "source": [
    "'''\n",
    "In the previous step: Rho = ρ = 0.53146627*|0><0| +  0.07778404*|1><1| + 0.07778404*|0><1| + 0.46853373*|1><0|\n",
    "\n",
    "Thus success probability with noise become 0.49 if the measurement output is |1>\n",
    "\n",
    "'''"
   ]
  },
  {
   "cell_type": "code",
   "execution_count": 38,
   "metadata": {},
   "outputs": [
    {
     "data": {
      "text/plain": [
       "tensor([[ 0.29027221+0.j,  0.        +0.j,  0.        +0.j,\n",
       "          0.08280272+0.j,  0.23199344+0.j,  0.        +0.j,\n",
       "          0.        +0.j, -0.07759174+0.j],\n",
       "        [ 0.        +0.j,  0.03630011+0.j,  0.        +0.j,\n",
       "          0.        +0.j,  0.        +0.j, -0.02621334+0.j,\n",
       "          0.        +0.j,  0.        +0.j],\n",
       "        [ 0.        +0.j,  0.        +0.j,  0.03630011+0.j,\n",
       "          0.        +0.j,  0.        +0.j,  0.        +0.j,\n",
       "         -0.00624963+0.j,  0.        +0.j],\n",
       "        [ 0.08280272+0.j,  0.        +0.j,  0.        +0.j,\n",
       "          0.16859385+0.j,  0.07759174+0.j,  0.        +0.j,\n",
       "          0.        +0.j, -0.12174642+0.j],\n",
       "        [ 0.23199344+0.j,  0.        +0.j,  0.        +0.j,\n",
       "          0.07759174+0.j,  0.25590019+0.j,  0.        +0.j,\n",
       "          0.        +0.j, -0.08280272+0.j],\n",
       "        [ 0.        +0.j, -0.02621334+0.j,  0.        +0.j,\n",
       "          0.        +0.j,  0.        +0.j,  0.0320017 +0.j,\n",
       "          0.        +0.j,  0.        +0.j],\n",
       "        [ 0.        +0.j,  0.        +0.j, -0.00624963+0.j,\n",
       "          0.        +0.j,  0.        +0.j,  0.        +0.j,\n",
       "          0.0320017 +0.j,  0.        +0.j],\n",
       "        [-0.07759174+0.j,  0.        +0.j,  0.        +0.j,\n",
       "         -0.12174642+0.j, -0.08280272+0.j,  0.        +0.j,\n",
       "          0.        +0.j,  0.14863014+0.j]], requires_grad=True)"
      ]
     },
     "execution_count": 38,
     "metadata": {},
     "output_type": "execute_result"
    }
   ],
   "source": [
    "rho_test"
   ]
  },
  {
   "cell_type": "code",
   "execution_count": null,
   "metadata": {},
   "outputs": [],
   "source": []
  }
 ],
 "metadata": {
  "kernelspec": {
   "display_name": "Python 3",
   "language": "python",
   "name": "python3"
  },
  "language_info": {
   "codemirror_mode": {
    "name": "ipython",
    "version": 3
   },
   "file_extension": ".py",
   "mimetype": "text/x-python",
   "name": "python",
   "nbconvert_exporter": "python",
   "pygments_lexer": "ipython3",
   "version": "3.8.5"
  }
 },
 "nbformat": 4,
 "nbformat_minor": 4
}
